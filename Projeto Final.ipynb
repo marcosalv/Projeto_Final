{
 "cells": [
  {
   "cell_type": "code",
   "execution_count": 1,
   "metadata": {
    "ExecuteTime": {
     "end_time": "2021-04-05T19:48:18.474845Z",
     "start_time": "2021-04-05T19:48:17.391681Z"
    }
   },
   "outputs": [],
   "source": [
    "import pandas as pd\n",
    "import numpy as np\n"
   ]
  },
  {
   "cell_type": "code",
   "execution_count": 21,
   "metadata": {
    "ExecuteTime": {
     "end_time": "2021-04-04T16:24:15.958221Z",
     "start_time": "2021-04-04T16:24:13.386207Z"
    }
   },
   "outputs": [],
   "source": [
    "#Importação da base de COVID_12 - casos em 2020\n",
    "covid = pd.read_csv ('data_covid.csv',sep =';')"
   ]
  },
  {
   "cell_type": "code",
   "execution_count": 22,
   "metadata": {
    "ExecuteTime": {
     "end_time": "2021-04-04T16:24:16.192107Z",
     "start_time": "2021-04-04T16:24:16.162187Z"
    },
    "scrolled": true
   },
   "outputs": [
    {
     "data": {
      "text/html": [
       "<div>\n",
       "<style scoped>\n",
       "    .dataframe tbody tr th:only-of-type {\n",
       "        vertical-align: middle;\n",
       "    }\n",
       "\n",
       "    .dataframe tbody tr th {\n",
       "        vertical-align: top;\n",
       "    }\n",
       "\n",
       "    .dataframe thead th {\n",
       "        text-align: right;\n",
       "    }\n",
       "</style>\n",
       "<table border=\"1\" class=\"dataframe\">\n",
       "  <thead>\n",
       "    <tr style=\"text-align: right;\">\n",
       "      <th></th>\n",
       "      <th>regiao</th>\n",
       "      <th>estado</th>\n",
       "      <th>municipio</th>\n",
       "      <th>coduf</th>\n",
       "      <th>codmun</th>\n",
       "      <th>codRegiaoSaude</th>\n",
       "      <th>nomeRegiaoSaude</th>\n",
       "      <th>data</th>\n",
       "      <th>semanaEpi</th>\n",
       "      <th>populacaoTCU2019</th>\n",
       "      <th>casosAcumulado</th>\n",
       "      <th>casosNovos</th>\n",
       "      <th>obitosAcumulado</th>\n",
       "      <th>obitosNovos</th>\n",
       "      <th>Recuperadosnovos</th>\n",
       "      <th>emAcompanhamentoNovos</th>\n",
       "      <th>interior/metropolitana</th>\n",
       "    </tr>\n",
       "  </thead>\n",
       "  <tbody>\n",
       "    <tr>\n",
       "      <th>0</th>\n",
       "      <td>Brasil</td>\n",
       "      <td>NaN</td>\n",
       "      <td>NaN</td>\n",
       "      <td>76</td>\n",
       "      <td>NaN</td>\n",
       "      <td>NaN</td>\n",
       "      <td>NaN</td>\n",
       "      <td>2020-02-25</td>\n",
       "      <td>9</td>\n",
       "      <td>210147125.0</td>\n",
       "      <td>0</td>\n",
       "      <td>0</td>\n",
       "      <td>0</td>\n",
       "      <td>0</td>\n",
       "      <td>NaN</td>\n",
       "      <td>NaN</td>\n",
       "      <td>NaN</td>\n",
       "    </tr>\n",
       "    <tr>\n",
       "      <th>1</th>\n",
       "      <td>Brasil</td>\n",
       "      <td>NaN</td>\n",
       "      <td>NaN</td>\n",
       "      <td>76</td>\n",
       "      <td>NaN</td>\n",
       "      <td>NaN</td>\n",
       "      <td>NaN</td>\n",
       "      <td>2020-02-26</td>\n",
       "      <td>9</td>\n",
       "      <td>210147125.0</td>\n",
       "      <td>1</td>\n",
       "      <td>1</td>\n",
       "      <td>0</td>\n",
       "      <td>0</td>\n",
       "      <td>NaN</td>\n",
       "      <td>NaN</td>\n",
       "      <td>NaN</td>\n",
       "    </tr>\n",
       "    <tr>\n",
       "      <th>2</th>\n",
       "      <td>Brasil</td>\n",
       "      <td>NaN</td>\n",
       "      <td>NaN</td>\n",
       "      <td>76</td>\n",
       "      <td>NaN</td>\n",
       "      <td>NaN</td>\n",
       "      <td>NaN</td>\n",
       "      <td>2020-02-27</td>\n",
       "      <td>9</td>\n",
       "      <td>210147125.0</td>\n",
       "      <td>1</td>\n",
       "      <td>0</td>\n",
       "      <td>0</td>\n",
       "      <td>0</td>\n",
       "      <td>NaN</td>\n",
       "      <td>NaN</td>\n",
       "      <td>NaN</td>\n",
       "    </tr>\n",
       "    <tr>\n",
       "      <th>3</th>\n",
       "      <td>Brasil</td>\n",
       "      <td>NaN</td>\n",
       "      <td>NaN</td>\n",
       "      <td>76</td>\n",
       "      <td>NaN</td>\n",
       "      <td>NaN</td>\n",
       "      <td>NaN</td>\n",
       "      <td>2020-02-28</td>\n",
       "      <td>9</td>\n",
       "      <td>210147125.0</td>\n",
       "      <td>1</td>\n",
       "      <td>0</td>\n",
       "      <td>0</td>\n",
       "      <td>0</td>\n",
       "      <td>NaN</td>\n",
       "      <td>NaN</td>\n",
       "      <td>NaN</td>\n",
       "    </tr>\n",
       "    <tr>\n",
       "      <th>4</th>\n",
       "      <td>Brasil</td>\n",
       "      <td>NaN</td>\n",
       "      <td>NaN</td>\n",
       "      <td>76</td>\n",
       "      <td>NaN</td>\n",
       "      <td>NaN</td>\n",
       "      <td>NaN</td>\n",
       "      <td>2020-02-29</td>\n",
       "      <td>9</td>\n",
       "      <td>210147125.0</td>\n",
       "      <td>2</td>\n",
       "      <td>1</td>\n",
       "      <td>0</td>\n",
       "      <td>0</td>\n",
       "      <td>NaN</td>\n",
       "      <td>NaN</td>\n",
       "      <td>NaN</td>\n",
       "    </tr>\n",
       "    <tr>\n",
       "      <th>...</th>\n",
       "      <td>...</td>\n",
       "      <td>...</td>\n",
       "      <td>...</td>\n",
       "      <td>...</td>\n",
       "      <td>...</td>\n",
       "      <td>...</td>\n",
       "      <td>...</td>\n",
       "      <td>...</td>\n",
       "      <td>...</td>\n",
       "      <td>...</td>\n",
       "      <td>...</td>\n",
       "      <td>...</td>\n",
       "      <td>...</td>\n",
       "      <td>...</td>\n",
       "      <td>...</td>\n",
       "      <td>...</td>\n",
       "      <td>...</td>\n",
       "    </tr>\n",
       "    <tr>\n",
       "      <th>95</th>\n",
       "      <td>Brasil</td>\n",
       "      <td>NaN</td>\n",
       "      <td>NaN</td>\n",
       "      <td>76</td>\n",
       "      <td>NaN</td>\n",
       "      <td>NaN</td>\n",
       "      <td>NaN</td>\n",
       "      <td>2020-05-30</td>\n",
       "      <td>22</td>\n",
       "      <td>210147125.0</td>\n",
       "      <td>498440</td>\n",
       "      <td>33274</td>\n",
       "      <td>28834</td>\n",
       "      <td>956</td>\n",
       "      <td>200892.0</td>\n",
       "      <td>268714.0</td>\n",
       "      <td>NaN</td>\n",
       "    </tr>\n",
       "    <tr>\n",
       "      <th>96</th>\n",
       "      <td>Brasil</td>\n",
       "      <td>NaN</td>\n",
       "      <td>NaN</td>\n",
       "      <td>76</td>\n",
       "      <td>NaN</td>\n",
       "      <td>NaN</td>\n",
       "      <td>NaN</td>\n",
       "      <td>2020-05-31</td>\n",
       "      <td>23</td>\n",
       "      <td>210147125.0</td>\n",
       "      <td>514200</td>\n",
       "      <td>15760</td>\n",
       "      <td>29314</td>\n",
       "      <td>480</td>\n",
       "      <td>206555.0</td>\n",
       "      <td>278331.0</td>\n",
       "      <td>NaN</td>\n",
       "    </tr>\n",
       "    <tr>\n",
       "      <th>97</th>\n",
       "      <td>Brasil</td>\n",
       "      <td>NaN</td>\n",
       "      <td>NaN</td>\n",
       "      <td>76</td>\n",
       "      <td>NaN</td>\n",
       "      <td>NaN</td>\n",
       "      <td>NaN</td>\n",
       "      <td>2020-06-01</td>\n",
       "      <td>23</td>\n",
       "      <td>210147125.0</td>\n",
       "      <td>526447</td>\n",
       "      <td>12247</td>\n",
       "      <td>29937</td>\n",
       "      <td>623</td>\n",
       "      <td>211080.0</td>\n",
       "      <td>285430.0</td>\n",
       "      <td>NaN</td>\n",
       "    </tr>\n",
       "    <tr>\n",
       "      <th>98</th>\n",
       "      <td>Brasil</td>\n",
       "      <td>NaN</td>\n",
       "      <td>NaN</td>\n",
       "      <td>76</td>\n",
       "      <td>NaN</td>\n",
       "      <td>NaN</td>\n",
       "      <td>NaN</td>\n",
       "      <td>2020-06-02</td>\n",
       "      <td>23</td>\n",
       "      <td>210147125.0</td>\n",
       "      <td>555383</td>\n",
       "      <td>28936</td>\n",
       "      <td>31199</td>\n",
       "      <td>1262</td>\n",
       "      <td>223638.0</td>\n",
       "      <td>300546.0</td>\n",
       "      <td>NaN</td>\n",
       "    </tr>\n",
       "    <tr>\n",
       "      <th>99</th>\n",
       "      <td>Brasil</td>\n",
       "      <td>NaN</td>\n",
       "      <td>NaN</td>\n",
       "      <td>76</td>\n",
       "      <td>NaN</td>\n",
       "      <td>NaN</td>\n",
       "      <td>NaN</td>\n",
       "      <td>2020-06-03</td>\n",
       "      <td>23</td>\n",
       "      <td>210147125.0</td>\n",
       "      <td>584016</td>\n",
       "      <td>28633</td>\n",
       "      <td>32548</td>\n",
       "      <td>1349</td>\n",
       "      <td>238617.0</td>\n",
       "      <td>312851.0</td>\n",
       "      <td>NaN</td>\n",
       "    </tr>\n",
       "  </tbody>\n",
       "</table>\n",
       "<p>100 rows × 17 columns</p>\n",
       "</div>"
      ],
      "text/plain": [
       "    regiao estado municipio  coduf  codmun  codRegiaoSaude nomeRegiaoSaude  \\\n",
       "0   Brasil    NaN       NaN     76     NaN             NaN             NaN   \n",
       "1   Brasil    NaN       NaN     76     NaN             NaN             NaN   \n",
       "2   Brasil    NaN       NaN     76     NaN             NaN             NaN   \n",
       "3   Brasil    NaN       NaN     76     NaN             NaN             NaN   \n",
       "4   Brasil    NaN       NaN     76     NaN             NaN             NaN   \n",
       "..     ...    ...       ...    ...     ...             ...             ...   \n",
       "95  Brasil    NaN       NaN     76     NaN             NaN             NaN   \n",
       "96  Brasil    NaN       NaN     76     NaN             NaN             NaN   \n",
       "97  Brasil    NaN       NaN     76     NaN             NaN             NaN   \n",
       "98  Brasil    NaN       NaN     76     NaN             NaN             NaN   \n",
       "99  Brasil    NaN       NaN     76     NaN             NaN             NaN   \n",
       "\n",
       "          data  semanaEpi  populacaoTCU2019  casosAcumulado  casosNovos  \\\n",
       "0   2020-02-25          9       210147125.0               0           0   \n",
       "1   2020-02-26          9       210147125.0               1           1   \n",
       "2   2020-02-27          9       210147125.0               1           0   \n",
       "3   2020-02-28          9       210147125.0               1           0   \n",
       "4   2020-02-29          9       210147125.0               2           1   \n",
       "..         ...        ...               ...             ...         ...   \n",
       "95  2020-05-30         22       210147125.0          498440       33274   \n",
       "96  2020-05-31         23       210147125.0          514200       15760   \n",
       "97  2020-06-01         23       210147125.0          526447       12247   \n",
       "98  2020-06-02         23       210147125.0          555383       28936   \n",
       "99  2020-06-03         23       210147125.0          584016       28633   \n",
       "\n",
       "    obitosAcumulado  obitosNovos  Recuperadosnovos  emAcompanhamentoNovos  \\\n",
       "0                 0            0               NaN                    NaN   \n",
       "1                 0            0               NaN                    NaN   \n",
       "2                 0            0               NaN                    NaN   \n",
       "3                 0            0               NaN                    NaN   \n",
       "4                 0            0               NaN                    NaN   \n",
       "..              ...          ...               ...                    ...   \n",
       "95            28834          956          200892.0               268714.0   \n",
       "96            29314          480          206555.0               278331.0   \n",
       "97            29937          623          211080.0               285430.0   \n",
       "98            31199         1262          223638.0               300546.0   \n",
       "99            32548         1349          238617.0               312851.0   \n",
       "\n",
       "    interior/metropolitana  \n",
       "0                      NaN  \n",
       "1                      NaN  \n",
       "2                      NaN  \n",
       "3                      NaN  \n",
       "4                      NaN  \n",
       "..                     ...  \n",
       "95                     NaN  \n",
       "96                     NaN  \n",
       "97                     NaN  \n",
       "98                     NaN  \n",
       "99                     NaN  \n",
       "\n",
       "[100 rows x 17 columns]"
      ]
     },
     "execution_count": 22,
     "metadata": {},
     "output_type": "execute_result"
    }
   ],
   "source": [
    "covid.head(100)"
   ]
  },
  {
   "cell_type": "code",
   "execution_count": 23,
   "metadata": {
    "ExecuteTime": {
     "end_time": "2021-04-04T16:24:26.901056Z",
     "start_time": "2021-04-04T16:24:26.889167Z"
    }
   },
   "outputs": [
    {
     "data": {
      "text/plain": [
       "Index(['regiao', 'estado', 'municipio', 'coduf', 'codmun', 'codRegiaoSaude',\n",
       "       'nomeRegiaoSaude', 'data', 'semanaEpi', 'populacaoTCU2019',\n",
       "       'casosAcumulado', 'casosNovos', 'obitosAcumulado', 'obitosNovos',\n",
       "       'Recuperadosnovos', 'emAcompanhamentoNovos', 'interior/metropolitana'],\n",
       "      dtype='object')"
      ]
     },
     "execution_count": 23,
     "metadata": {},
     "output_type": "execute_result"
    }
   ],
   "source": [
    "covid.columns"
   ]
  },
  {
   "cell_type": "code",
   "execution_count": 27,
   "metadata": {
    "ExecuteTime": {
     "end_time": "2021-04-04T16:55:21.905757Z",
     "start_time": "2021-04-04T16:55:18.200845Z"
    }
   },
   "outputs": [],
   "source": [
    "cv19 = covid[['data','estado','codmun','municipio','populacaoTCU2019','casosNovos','obitosNovos']].groupby(['data','estado','codmun','municipio','populacaoTCU2019','casosNovos','obitosNovos'],as_index=False).agg(soma_valor_beneficio = ('casosNovos','sum'))"
   ]
  },
  {
   "cell_type": "code",
   "execution_count": 28,
   "metadata": {
    "ExecuteTime": {
     "end_time": "2021-04-04T16:55:29.482642Z",
     "start_time": "2021-04-04T16:55:29.463693Z"
    },
    "scrolled": true
   },
   "outputs": [
    {
     "data": {
      "text/html": [
       "<div>\n",
       "<style scoped>\n",
       "    .dataframe tbody tr th:only-of-type {\n",
       "        vertical-align: middle;\n",
       "    }\n",
       "\n",
       "    .dataframe tbody tr th {\n",
       "        vertical-align: top;\n",
       "    }\n",
       "\n",
       "    .dataframe thead th {\n",
       "        text-align: right;\n",
       "    }\n",
       "</style>\n",
       "<table border=\"1\" class=\"dataframe\">\n",
       "  <thead>\n",
       "    <tr style=\"text-align: right;\">\n",
       "      <th></th>\n",
       "      <th>data</th>\n",
       "      <th>estado</th>\n",
       "      <th>codmun</th>\n",
       "      <th>municipio</th>\n",
       "      <th>populacaoTCU2019</th>\n",
       "      <th>casosNovos</th>\n",
       "      <th>obitosNovos</th>\n",
       "      <th>soma_valor_beneficio</th>\n",
       "    </tr>\n",
       "  </thead>\n",
       "  <tbody>\n",
       "    <tr>\n",
       "      <th>0</th>\n",
       "      <td>2020-03-27</td>\n",
       "      <td>AC</td>\n",
       "      <td>120001.0</td>\n",
       "      <td>Acrelândia</td>\n",
       "      <td>15256.0</td>\n",
       "      <td>0</td>\n",
       "      <td>0</td>\n",
       "      <td>0</td>\n",
       "    </tr>\n",
       "    <tr>\n",
       "      <th>1</th>\n",
       "      <td>2020-03-27</td>\n",
       "      <td>AC</td>\n",
       "      <td>120005.0</td>\n",
       "      <td>Assis Brasil</td>\n",
       "      <td>7417.0</td>\n",
       "      <td>0</td>\n",
       "      <td>0</td>\n",
       "      <td>0</td>\n",
       "    </tr>\n",
       "    <tr>\n",
       "      <th>2</th>\n",
       "      <td>2020-03-27</td>\n",
       "      <td>AC</td>\n",
       "      <td>120010.0</td>\n",
       "      <td>Brasiléia</td>\n",
       "      <td>26278.0</td>\n",
       "      <td>0</td>\n",
       "      <td>0</td>\n",
       "      <td>0</td>\n",
       "    </tr>\n",
       "    <tr>\n",
       "      <th>3</th>\n",
       "      <td>2020-03-27</td>\n",
       "      <td>AC</td>\n",
       "      <td>120013.0</td>\n",
       "      <td>Bujari</td>\n",
       "      <td>10266.0</td>\n",
       "      <td>0</td>\n",
       "      <td>0</td>\n",
       "      <td>0</td>\n",
       "    </tr>\n",
       "    <tr>\n",
       "      <th>4</th>\n",
       "      <td>2020-03-27</td>\n",
       "      <td>AC</td>\n",
       "      <td>120017.0</td>\n",
       "      <td>Capixaba</td>\n",
       "      <td>11733.0</td>\n",
       "      <td>0</td>\n",
       "      <td>0</td>\n",
       "      <td>0</td>\n",
       "    </tr>\n",
       "  </tbody>\n",
       "</table>\n",
       "</div>"
      ],
      "text/plain": [
       "         data estado    codmun     municipio  populacaoTCU2019  casosNovos  \\\n",
       "0  2020-03-27     AC  120001.0    Acrelândia           15256.0           0   \n",
       "1  2020-03-27     AC  120005.0  Assis Brasil            7417.0           0   \n",
       "2  2020-03-27     AC  120010.0     Brasiléia           26278.0           0   \n",
       "3  2020-03-27     AC  120013.0        Bujari           10266.0           0   \n",
       "4  2020-03-27     AC  120017.0      Capixaba           11733.0           0   \n",
       "\n",
       "   obitosNovos  soma_valor_beneficio  \n",
       "0            0                     0  \n",
       "1            0                     0  \n",
       "2            0                     0  \n",
       "3            0                     0  \n",
       "4            0                     0  "
      ]
     },
     "execution_count": 28,
     "metadata": {},
     "output_type": "execute_result"
    }
   ],
   "source": [
    "cv19.head()"
   ]
  },
  {
   "cell_type": "code",
   "execution_count": 42,
   "metadata": {
    "ExecuteTime": {
     "end_time": "2021-04-04T17:43:00.122094Z",
     "start_time": "2021-04-04T17:42:58.415829Z"
    },
    "scrolled": true
   },
   "outputs": [
    {
     "data": {
      "text/html": [
       "<div>\n",
       "<style scoped>\n",
       "    .dataframe tbody tr th:only-of-type {\n",
       "        vertical-align: middle;\n",
       "    }\n",
       "\n",
       "    .dataframe tbody tr th {\n",
       "        vertical-align: top;\n",
       "    }\n",
       "\n",
       "    .dataframe thead th {\n",
       "        text-align: right;\n",
       "    }\n",
       "</style>\n",
       "<table border=\"1\" class=\"dataframe\">\n",
       "  <thead>\n",
       "    <tr style=\"text-align: right;\">\n",
       "      <th></th>\n",
       "      <th>data</th>\n",
       "      <th>estado</th>\n",
       "      <th>codmun</th>\n",
       "      <th>municipio</th>\n",
       "      <th>populacaoTCU2019</th>\n",
       "      <th>casosNovos</th>\n",
       "      <th>obitosNovos</th>\n",
       "      <th>soma_valor_beneficio</th>\n",
       "      <th>ano</th>\n",
       "      <th>mes</th>\n",
       "      <th>periodo</th>\n",
       "    </tr>\n",
       "  </thead>\n",
       "  <tbody>\n",
       "    <tr>\n",
       "      <th>0</th>\n",
       "      <td>2020-03-27</td>\n",
       "      <td>AC</td>\n",
       "      <td>120001.0</td>\n",
       "      <td>Acrelândia</td>\n",
       "      <td>15256.0</td>\n",
       "      <td>0</td>\n",
       "      <td>0</td>\n",
       "      <td>0</td>\n",
       "      <td>2020</td>\n",
       "      <td>03</td>\n",
       "      <td>202003</td>\n",
       "    </tr>\n",
       "    <tr>\n",
       "      <th>1</th>\n",
       "      <td>2020-03-27</td>\n",
       "      <td>AC</td>\n",
       "      <td>120005.0</td>\n",
       "      <td>Assis Brasil</td>\n",
       "      <td>7417.0</td>\n",
       "      <td>0</td>\n",
       "      <td>0</td>\n",
       "      <td>0</td>\n",
       "      <td>2020</td>\n",
       "      <td>03</td>\n",
       "      <td>202003</td>\n",
       "    </tr>\n",
       "    <tr>\n",
       "      <th>2</th>\n",
       "      <td>2020-03-27</td>\n",
       "      <td>AC</td>\n",
       "      <td>120010.0</td>\n",
       "      <td>Brasiléia</td>\n",
       "      <td>26278.0</td>\n",
       "      <td>0</td>\n",
       "      <td>0</td>\n",
       "      <td>0</td>\n",
       "      <td>2020</td>\n",
       "      <td>03</td>\n",
       "      <td>202003</td>\n",
       "    </tr>\n",
       "    <tr>\n",
       "      <th>3</th>\n",
       "      <td>2020-03-27</td>\n",
       "      <td>AC</td>\n",
       "      <td>120013.0</td>\n",
       "      <td>Bujari</td>\n",
       "      <td>10266.0</td>\n",
       "      <td>0</td>\n",
       "      <td>0</td>\n",
       "      <td>0</td>\n",
       "      <td>2020</td>\n",
       "      <td>03</td>\n",
       "      <td>202003</td>\n",
       "    </tr>\n",
       "    <tr>\n",
       "      <th>4</th>\n",
       "      <td>2020-03-27</td>\n",
       "      <td>AC</td>\n",
       "      <td>120017.0</td>\n",
       "      <td>Capixaba</td>\n",
       "      <td>11733.0</td>\n",
       "      <td>0</td>\n",
       "      <td>0</td>\n",
       "      <td>0</td>\n",
       "      <td>2020</td>\n",
       "      <td>03</td>\n",
       "      <td>202003</td>\n",
       "    </tr>\n",
       "  </tbody>\n",
       "</table>\n",
       "</div>"
      ],
      "text/plain": [
       "         data estado    codmun     municipio  populacaoTCU2019  casosNovos  \\\n",
       "0  2020-03-27     AC  120001.0    Acrelândia           15256.0           0   \n",
       "1  2020-03-27     AC  120005.0  Assis Brasil            7417.0           0   \n",
       "2  2020-03-27     AC  120010.0     Brasiléia           26278.0           0   \n",
       "3  2020-03-27     AC  120013.0        Bujari           10266.0           0   \n",
       "4  2020-03-27     AC  120017.0      Capixaba           11733.0           0   \n",
       "\n",
       "   obitosNovos  soma_valor_beneficio   ano mes periodo  \n",
       "0            0                     0  2020  03  202003  \n",
       "1            0                     0  2020  03  202003  \n",
       "2            0                     0  2020  03  202003  \n",
       "3            0                     0  2020  03  202003  \n",
       "4            0                     0  2020  03  202003  "
      ]
     },
     "execution_count": 42,
     "metadata": {},
     "output_type": "execute_result"
    }
   ],
   "source": [
    "cv19['ano'] = cv19['data'].apply(lambda x: str(x)[:4])\n",
    "cv19['mes'] = cv19['data'].apply(lambda x: str(x)[5:7])\n",
    "cv19['periodo'] = cv19['ano']+cv19['mes']\n",
    "cv19.head()"
   ]
  },
  {
   "cell_type": "code",
   "execution_count": 45,
   "metadata": {
    "ExecuteTime": {
     "end_time": "2021-04-04T17:48:28.649051Z",
     "start_time": "2021-04-04T17:48:28.541324Z"
    },
    "scrolled": true
   },
   "outputs": [
    {
     "data": {
      "text/html": [
       "<div>\n",
       "<style scoped>\n",
       "    .dataframe tbody tr th:only-of-type {\n",
       "        vertical-align: middle;\n",
       "    }\n",
       "\n",
       "    .dataframe tbody tr th {\n",
       "        vertical-align: top;\n",
       "    }\n",
       "\n",
       "    .dataframe thead th {\n",
       "        text-align: right;\n",
       "    }\n",
       "</style>\n",
       "<table border=\"1\" class=\"dataframe\">\n",
       "  <thead>\n",
       "    <tr style=\"text-align: right;\">\n",
       "      <th></th>\n",
       "      <th>codmun</th>\n",
       "      <th>estado</th>\n",
       "      <th>municipio</th>\n",
       "      <th>populacaoTCU2019</th>\n",
       "      <th>casosNovos</th>\n",
       "      <th>obitosNovos</th>\n",
       "      <th>periodo</th>\n",
       "    </tr>\n",
       "  </thead>\n",
       "  <tbody>\n",
       "    <tr>\n",
       "      <th>0</th>\n",
       "      <td>120001.0</td>\n",
       "      <td>AC</td>\n",
       "      <td>Acrelândia</td>\n",
       "      <td>15256.0</td>\n",
       "      <td>0</td>\n",
       "      <td>0</td>\n",
       "      <td>202003</td>\n",
       "    </tr>\n",
       "    <tr>\n",
       "      <th>1</th>\n",
       "      <td>120005.0</td>\n",
       "      <td>AC</td>\n",
       "      <td>Assis Brasil</td>\n",
       "      <td>7417.0</td>\n",
       "      <td>0</td>\n",
       "      <td>0</td>\n",
       "      <td>202003</td>\n",
       "    </tr>\n",
       "    <tr>\n",
       "      <th>2</th>\n",
       "      <td>120010.0</td>\n",
       "      <td>AC</td>\n",
       "      <td>Brasiléia</td>\n",
       "      <td>26278.0</td>\n",
       "      <td>0</td>\n",
       "      <td>0</td>\n",
       "      <td>202003</td>\n",
       "    </tr>\n",
       "    <tr>\n",
       "      <th>3</th>\n",
       "      <td>120013.0</td>\n",
       "      <td>AC</td>\n",
       "      <td>Bujari</td>\n",
       "      <td>10266.0</td>\n",
       "      <td>0</td>\n",
       "      <td>0</td>\n",
       "      <td>202003</td>\n",
       "    </tr>\n",
       "    <tr>\n",
       "      <th>4</th>\n",
       "      <td>120017.0</td>\n",
       "      <td>AC</td>\n",
       "      <td>Capixaba</td>\n",
       "      <td>11733.0</td>\n",
       "      <td>0</td>\n",
       "      <td>0</td>\n",
       "      <td>202003</td>\n",
       "    </tr>\n",
       "  </tbody>\n",
       "</table>\n",
       "</div>"
      ],
      "text/plain": [
       "     codmun estado     municipio  populacaoTCU2019  casosNovos  obitosNovos  \\\n",
       "0  120001.0     AC    Acrelândia           15256.0           0            0   \n",
       "1  120005.0     AC  Assis Brasil            7417.0           0            0   \n",
       "2  120010.0     AC     Brasiléia           26278.0           0            0   \n",
       "3  120013.0     AC        Bujari           10266.0           0            0   \n",
       "4  120017.0     AC      Capixaba           11733.0           0            0   \n",
       "\n",
       "  periodo  \n",
       "0  202003  \n",
       "1  202003  \n",
       "2  202003  \n",
       "3  202003  \n",
       "4  202003  "
      ]
     },
     "execution_count": 45,
     "metadata": {},
     "output_type": "execute_result"
    }
   ],
   "source": [
    "df_covid_final = cv19[['codmun','estado','municipio','populacaoTCU2019','casosNovos','obitosNovos','periodo']]\n",
    "df_covid_final.head()"
   ]
  },
  {
   "cell_type": "code",
   "execution_count": 46,
   "metadata": {
    "ExecuteTime": {
     "end_time": "2021-04-04T18:40:57.185002Z",
     "start_time": "2021-04-04T18:40:48.731300Z"
    }
   },
   "outputs": [],
   "source": [
    "df_covid_final.to_csv('covid_final.csv')"
   ]
  },
  {
   "cell_type": "code",
   "execution_count": 3,
   "metadata": {
    "ExecuteTime": {
     "end_time": "2021-04-03T15:42:43.240765Z",
     "start_time": "2021-04-03T15:41:31.404677Z"
    },
    "scrolled": true
   },
   "outputs": [],
   "source": [
    "#Importação base de auxílio emergencial\n",
    "Aux_06 = pd.read_csv ('202006_AuxilioEmergencial.csv',sep =';', encoding='latin1', usecols=['MÊS DISPONIBILIZAÇÃO','UF','CÓDIGO MUNICÍPIO IBGE','NOME MUNICÍPIO','VALOR BENEFÍCIO','OBSERVAÇÃO','PARCELA'])"
   ]
  },
  {
   "cell_type": "code",
   "execution_count": 4,
   "metadata": {
    "ExecuteTime": {
     "end_time": "2021-04-03T15:44:31.187178Z",
     "start_time": "2021-04-03T15:44:09.372737Z"
    }
   },
   "outputs": [],
   "source": [
    "Aux_06['VALOR BENEFÍCIO'] = Aux_06['VALOR BENEFÍCIO'].apply(lambda x: x.replace(',','.') ).astype(float)"
   ]
  },
  {
   "cell_type": "code",
   "execution_count": 10,
   "metadata": {
    "ExecuteTime": {
     "end_time": "2021-04-03T15:58:13.509279Z",
     "start_time": "2021-04-03T15:57:52.944994Z"
    },
    "scrolled": true
   },
   "outputs": [],
   "source": [
    "aux_06_gb = Aux_06[['MÊS DISPONIBILIZAÇÃO','UF','CÓDIGO MUNICÍPIO IBGE','NOME MUNICÍPIO','OBSERVAÇÃO','PARCELA','VALOR BENEFÍCIO']].groupby(['CÓDIGO MUNICÍPIO IBGE','UF','NOME MUNICÍPIO','MÊS DISPONIBILIZAÇÃO','OBSERVAÇÃO','PARCELA'],as_index=False).agg(soma_valor_beneficio = ('VALOR BENEFÍCIO','sum'),count_valor_beneficio = ('VALOR BENEFÍCIO','count'))"
   ]
  },
  {
   "cell_type": "code",
   "execution_count": 11,
   "metadata": {
    "ExecuteTime": {
     "end_time": "2021-04-03T15:58:31.083034Z",
     "start_time": "2021-04-03T15:58:31.052184Z"
    },
    "scrolled": false
   },
   "outputs": [
    {
     "data": {
      "text/html": [
       "<div>\n",
       "<style scoped>\n",
       "    .dataframe tbody tr th:only-of-type {\n",
       "        vertical-align: middle;\n",
       "    }\n",
       "\n",
       "    .dataframe tbody tr th {\n",
       "        vertical-align: top;\n",
       "    }\n",
       "\n",
       "    .dataframe thead th {\n",
       "        text-align: right;\n",
       "    }\n",
       "</style>\n",
       "<table border=\"1\" class=\"dataframe\">\n",
       "  <thead>\n",
       "    <tr style=\"text-align: right;\">\n",
       "      <th></th>\n",
       "      <th>CÓDIGO MUNICÍPIO IBGE</th>\n",
       "      <th>UF</th>\n",
       "      <th>NOME MUNICÍPIO</th>\n",
       "      <th>MÊS DISPONIBILIZAÇÃO</th>\n",
       "      <th>OBSERVAÇÃO</th>\n",
       "      <th>PARCELA</th>\n",
       "      <th>soma_valor_beneficio</th>\n",
       "      <th>count_valor_beneficio</th>\n",
       "    </tr>\n",
       "  </thead>\n",
       "  <tbody>\n",
       "    <tr>\n",
       "      <th>0</th>\n",
       "      <td>1100015.0</td>\n",
       "      <td>RO</td>\n",
       "      <td>ALTA FLORESTA D'OESTE</td>\n",
       "      <td>202006</td>\n",
       "      <td>Não há</td>\n",
       "      <td>1ª</td>\n",
       "      <td>569400.0</td>\n",
       "      <td>872</td>\n",
       "    </tr>\n",
       "    <tr>\n",
       "      <th>1</th>\n",
       "      <td>1100015.0</td>\n",
       "      <td>RO</td>\n",
       "      <td>ALTA FLORESTA D'OESTE</td>\n",
       "      <td>202006</td>\n",
       "      <td>Não há</td>\n",
       "      <td>2ª</td>\n",
       "      <td>218400.0</td>\n",
       "      <td>340</td>\n",
       "    </tr>\n",
       "    <tr>\n",
       "      <th>2</th>\n",
       "      <td>1100015.0</td>\n",
       "      <td>RO</td>\n",
       "      <td>ALTA FLORESTA D'OESTE</td>\n",
       "      <td>202006</td>\n",
       "      <td>Não há</td>\n",
       "      <td>3ª</td>\n",
       "      <td>844800.0</td>\n",
       "      <td>1298</td>\n",
       "    </tr>\n",
       "    <tr>\n",
       "      <th>3</th>\n",
       "      <td>1100015.0</td>\n",
       "      <td>RO</td>\n",
       "      <td>ALTA FLORESTA D'OESTE</td>\n",
       "      <td>202006</td>\n",
       "      <td>Pagamento bloqueado ou cancelado</td>\n",
       "      <td>1ª</td>\n",
       "      <td>21600.0</td>\n",
       "      <td>34</td>\n",
       "    </tr>\n",
       "    <tr>\n",
       "      <th>4</th>\n",
       "      <td>1100015.0</td>\n",
       "      <td>RO</td>\n",
       "      <td>ALTA FLORESTA D'OESTE</td>\n",
       "      <td>202006</td>\n",
       "      <td>Pagamento bloqueado ou cancelado</td>\n",
       "      <td>2ª</td>\n",
       "      <td>9600.0</td>\n",
       "      <td>16</td>\n",
       "    </tr>\n",
       "  </tbody>\n",
       "</table>\n",
       "</div>"
      ],
      "text/plain": [
       "   CÓDIGO MUNICÍPIO IBGE  UF         NOME MUNICÍPIO  MÊS DISPONIBILIZAÇÃO  \\\n",
       "0              1100015.0  RO  ALTA FLORESTA D'OESTE                202006   \n",
       "1              1100015.0  RO  ALTA FLORESTA D'OESTE                202006   \n",
       "2              1100015.0  RO  ALTA FLORESTA D'OESTE                202006   \n",
       "3              1100015.0  RO  ALTA FLORESTA D'OESTE                202006   \n",
       "4              1100015.0  RO  ALTA FLORESTA D'OESTE                202006   \n",
       "\n",
       "                         OBSERVAÇÃO PARCELA  soma_valor_beneficio  \\\n",
       "0                            Não há      1ª              569400.0   \n",
       "1                            Não há      2ª              218400.0   \n",
       "2                            Não há      3ª              844800.0   \n",
       "3  Pagamento bloqueado ou cancelado      1ª               21600.0   \n",
       "4  Pagamento bloqueado ou cancelado      2ª                9600.0   \n",
       "\n",
       "   count_valor_beneficio  \n",
       "0                    872  \n",
       "1                    340  \n",
       "2                   1298  \n",
       "3                     34  \n",
       "4                     16  "
      ]
     },
     "execution_count": 11,
     "metadata": {},
     "output_type": "execute_result"
    }
   ],
   "source": [
    "aux_06_gb.head()"
   ]
  },
  {
   "cell_type": "code",
   "execution_count": 13,
   "metadata": {
    "ExecuteTime": {
     "end_time": "2021-04-03T15:59:31.101409Z",
     "start_time": "2021-04-03T15:59:31.083452Z"
    }
   },
   "outputs": [],
   "source": [
    "df = aux_06_gb"
   ]
  },
  {
   "cell_type": "code",
   "execution_count": 14,
   "metadata": {
    "ExecuteTime": {
     "end_time": "2021-04-03T15:59:32.039322Z",
     "start_time": "2021-04-03T15:59:32.025195Z"
    }
   },
   "outputs": [],
   "source": [
    "df=pd.DataFrame(aux_06_gb)"
   ]
  },
  {
   "cell_type": "code",
   "execution_count": 15,
   "metadata": {
    "ExecuteTime": {
     "end_time": "2021-04-03T15:59:33.206998Z",
     "start_time": "2021-04-03T15:59:32.954926Z"
    }
   },
   "outputs": [],
   "source": [
    "df.to_csv('auxilio_06.csv')"
   ]
  },
  {
   "cell_type": "code",
   "execution_count": null,
   "metadata": {},
   "outputs": [],
   "source": [
    "##Começa a importação do novo mes_dez12"
   ]
  },
  {
   "cell_type": "code",
   "execution_count": 2,
   "metadata": {
    "ExecuteTime": {
     "end_time": "2021-04-03T16:08:40.206900Z",
     "start_time": "2021-04-03T16:05:48.978079Z"
    }
   },
   "outputs": [
    {
     "name": "stderr",
     "output_type": "stream",
     "text": [
      "C:\\Users\\55659\\Anaconda3\\lib\\site-packages\\IPython\\core\\interactiveshell.py:3146: DtypeWarning: Columns (1,3) have mixed types.Specify dtype option on import or set low_memory=False.\n",
      "  has_raised = await self.run_ast_nodes(code_ast.body, cell_name,\n"
     ]
    }
   ],
   "source": [
    "#Importação base de auxílio emergencial\n",
    "Aux_12 = pd.read_csv ('202012_AuxilioEmergencial.csv',sep =';', encoding='latin1', usecols=['MÊS DISPONIBILIZAÇÃO','UF','CÓDIGO MUNICÍPIO IBGE','NOME MUNICÍPIO','VALOR BENEFÍCIO','OBSERVAÇÃO','PARCELA'])"
   ]
  },
  {
   "cell_type": "code",
   "execution_count": 3,
   "metadata": {
    "ExecuteTime": {
     "end_time": "2021-04-03T16:10:38.761779Z",
     "start_time": "2021-04-03T16:08:49.725576Z"
    }
   },
   "outputs": [],
   "source": [
    "Aux_12['VALOR BENEFÍCIO'] = Aux_12['VALOR BENEFÍCIO'].apply(lambda x: x.replace(',','.') ).astype(float)"
   ]
  },
  {
   "cell_type": "code",
   "execution_count": 4,
   "metadata": {
    "ExecuteTime": {
     "end_time": "2021-04-03T16:12:18.629015Z",
     "start_time": "2021-04-03T16:10:50.689587Z"
    }
   },
   "outputs": [],
   "source": [
    "aux_12_gb = Aux_12[['MÊS DISPONIBILIZAÇÃO','UF','CÓDIGO MUNICÍPIO IBGE','NOME MUNICÍPIO','OBSERVAÇÃO','PARCELA','VALOR BENEFÍCIO']].groupby(['CÓDIGO MUNICÍPIO IBGE','UF','NOME MUNICÍPIO','MÊS DISPONIBILIZAÇÃO','OBSERVAÇÃO','PARCELA'],as_index=False).agg(soma_valor_beneficio = ('VALOR BENEFÍCIO','sum'),count_valor_beneficio = ('VALOR BENEFÍCIO','count'))"
   ]
  },
  {
   "cell_type": "code",
   "execution_count": 5,
   "metadata": {
    "ExecuteTime": {
     "end_time": "2021-04-03T16:25:31.444106Z",
     "start_time": "2021-04-03T16:25:31.366879Z"
    }
   },
   "outputs": [
    {
     "data": {
      "text/html": [
       "<div>\n",
       "<style scoped>\n",
       "    .dataframe tbody tr th:only-of-type {\n",
       "        vertical-align: middle;\n",
       "    }\n",
       "\n",
       "    .dataframe tbody tr th {\n",
       "        vertical-align: top;\n",
       "    }\n",
       "\n",
       "    .dataframe thead th {\n",
       "        text-align: right;\n",
       "    }\n",
       "</style>\n",
       "<table border=\"1\" class=\"dataframe\">\n",
       "  <thead>\n",
       "    <tr style=\"text-align: right;\">\n",
       "      <th></th>\n",
       "      <th>CÓDIGO MUNICÍPIO IBGE</th>\n",
       "      <th>UF</th>\n",
       "      <th>NOME MUNICÍPIO</th>\n",
       "      <th>MÊS DISPONIBILIZAÇÃO</th>\n",
       "      <th>OBSERVAÇÃO</th>\n",
       "      <th>PARCELA</th>\n",
       "      <th>soma_valor_beneficio</th>\n",
       "      <th>count_valor_beneficio</th>\n",
       "    </tr>\n",
       "  </thead>\n",
       "  <tbody>\n",
       "    <tr>\n",
       "      <th>0</th>\n",
       "      <td>1100015.0</td>\n",
       "      <td>RO</td>\n",
       "      <td>ALTA FLORESTA D'OESTE</td>\n",
       "      <td>202012</td>\n",
       "      <td>Não há</td>\n",
       "      <td>1ª</td>\n",
       "      <td>5400.0</td>\n",
       "      <td>8</td>\n",
       "    </tr>\n",
       "    <tr>\n",
       "      <th>1</th>\n",
       "      <td>1100015.0</td>\n",
       "      <td>RO</td>\n",
       "      <td>ALTA FLORESTA D'OESTE</td>\n",
       "      <td>202012</td>\n",
       "      <td>Não há</td>\n",
       "      <td>2ª</td>\n",
       "      <td>10800.0</td>\n",
       "      <td>17</td>\n",
       "    </tr>\n",
       "    <tr>\n",
       "      <th>2</th>\n",
       "      <td>1100015.0</td>\n",
       "      <td>RO</td>\n",
       "      <td>ALTA FLORESTA D'OESTE</td>\n",
       "      <td>202012</td>\n",
       "      <td>Não há</td>\n",
       "      <td>3ª</td>\n",
       "      <td>19800.0</td>\n",
       "      <td>29</td>\n",
       "    </tr>\n",
       "    <tr>\n",
       "      <th>3</th>\n",
       "      <td>1100015.0</td>\n",
       "      <td>RO</td>\n",
       "      <td>ALTA FLORESTA D'OESTE</td>\n",
       "      <td>202012</td>\n",
       "      <td>Não há</td>\n",
       "      <td>4ª</td>\n",
       "      <td>43800.0</td>\n",
       "      <td>65</td>\n",
       "    </tr>\n",
       "    <tr>\n",
       "      <th>4</th>\n",
       "      <td>1100015.0</td>\n",
       "      <td>RO</td>\n",
       "      <td>ALTA FLORESTA D'OESTE</td>\n",
       "      <td>202012</td>\n",
       "      <td>Não há</td>\n",
       "      <td>5ª</td>\n",
       "      <td>99000.0</td>\n",
       "      <td>148</td>\n",
       "    </tr>\n",
       "  </tbody>\n",
       "</table>\n",
       "</div>"
      ],
      "text/plain": [
       "   CÓDIGO MUNICÍPIO IBGE  UF         NOME MUNICÍPIO  MÊS DISPONIBILIZAÇÃO  \\\n",
       "0              1100015.0  RO  ALTA FLORESTA D'OESTE                202012   \n",
       "1              1100015.0  RO  ALTA FLORESTA D'OESTE                202012   \n",
       "2              1100015.0  RO  ALTA FLORESTA D'OESTE                202012   \n",
       "3              1100015.0  RO  ALTA FLORESTA D'OESTE                202012   \n",
       "4              1100015.0  RO  ALTA FLORESTA D'OESTE                202012   \n",
       "\n",
       "  OBSERVAÇÃO PARCELA  soma_valor_beneficio  count_valor_beneficio  \n",
       "0     Não há      1ª                5400.0                      8  \n",
       "1     Não há      2ª               10800.0                     17  \n",
       "2     Não há      3ª               19800.0                     29  \n",
       "3     Não há      4ª               43800.0                     65  \n",
       "4     Não há      5ª               99000.0                    148  "
      ]
     },
     "execution_count": 5,
     "metadata": {},
     "output_type": "execute_result"
    }
   ],
   "source": [
    "aux_12_gb.head()"
   ]
  },
  {
   "cell_type": "code",
   "execution_count": 6,
   "metadata": {
    "ExecuteTime": {
     "end_time": "2021-04-03T16:25:35.264832Z",
     "start_time": "2021-04-03T16:25:35.257796Z"
    }
   },
   "outputs": [],
   "source": [
    "df=pd.DataFrame(aux_12_gb)"
   ]
  },
  {
   "cell_type": "code",
   "execution_count": 7,
   "metadata": {
    "ExecuteTime": {
     "end_time": "2021-04-03T16:25:43.524988Z",
     "start_time": "2021-04-03T16:25:43.225053Z"
    }
   },
   "outputs": [],
   "source": [
    "df.to_csv('auxilio_12.csv')"
   ]
  },
  {
   "cell_type": "code",
   "execution_count": null,
   "metadata": {},
   "outputs": [],
   "source": [
    "##Começa a importação do novo mes_abr04"
   ]
  },
  {
   "cell_type": "code",
   "execution_count": 24,
   "metadata": {
    "ExecuteTime": {
     "end_time": "2021-04-03T16:56:41.231334Z",
     "start_time": "2021-04-03T16:55:07.344680Z"
    }
   },
   "outputs": [],
   "source": [
    "#Importação base de auxílio emergencial\n",
    "Aux_04 = pd.read_csv ('202004_AuxilioEmergencial.csv',sep =';', encoding='latin1', usecols=['MÊS DISPONIBILIZAÇÃO','UF','CÓDIGO MUNICÍPIO IBGE','NOME MUNICÍPIO','VALOR BENEFÍCIO','OBSERVAÇÃO','PARCELA'])"
   ]
  },
  {
   "cell_type": "code",
   "execution_count": 25,
   "metadata": {
    "ExecuteTime": {
     "end_time": "2021-04-03T17:11:35.690009Z",
     "start_time": "2021-04-03T17:11:01.947181Z"
    }
   },
   "outputs": [],
   "source": [
    "Aux_04['VALOR BENEFÍCIO'] = Aux_04['VALOR BENEFÍCIO'].apply(lambda x: x.replace(',','.') ).astype(float)"
   ]
  },
  {
   "cell_type": "code",
   "execution_count": 26,
   "metadata": {
    "ExecuteTime": {
     "end_time": "2021-04-03T17:13:12.962989Z",
     "start_time": "2021-04-03T17:12:31.621051Z"
    }
   },
   "outputs": [],
   "source": [
    "aux_04_gb = Aux_04[['MÊS DISPONIBILIZAÇÃO','UF','CÓDIGO MUNICÍPIO IBGE','NOME MUNICÍPIO','OBSERVAÇÃO','PARCELA','VALOR BENEFÍCIO']].groupby(['CÓDIGO MUNICÍPIO IBGE','UF','NOME MUNICÍPIO','MÊS DISPONIBILIZAÇÃO','OBSERVAÇÃO','PARCELA'],as_index=False).agg(soma_valor_beneficio = ('VALOR BENEFÍCIO','sum'),count_valor_beneficio = ('VALOR BENEFÍCIO','count'))"
   ]
  },
  {
   "cell_type": "code",
   "execution_count": 27,
   "metadata": {
    "ExecuteTime": {
     "end_time": "2021-04-03T17:13:17.285383Z",
     "start_time": "2021-04-03T17:13:17.241044Z"
    }
   },
   "outputs": [
    {
     "data": {
      "text/html": [
       "<div>\n",
       "<style scoped>\n",
       "    .dataframe tbody tr th:only-of-type {\n",
       "        vertical-align: middle;\n",
       "    }\n",
       "\n",
       "    .dataframe tbody tr th {\n",
       "        vertical-align: top;\n",
       "    }\n",
       "\n",
       "    .dataframe thead th {\n",
       "        text-align: right;\n",
       "    }\n",
       "</style>\n",
       "<table border=\"1\" class=\"dataframe\">\n",
       "  <thead>\n",
       "    <tr style=\"text-align: right;\">\n",
       "      <th></th>\n",
       "      <th>CÓDIGO MUNICÍPIO IBGE</th>\n",
       "      <th>UF</th>\n",
       "      <th>NOME MUNICÍPIO</th>\n",
       "      <th>MÊS DISPONIBILIZAÇÃO</th>\n",
       "      <th>OBSERVAÇÃO</th>\n",
       "      <th>PARCELA</th>\n",
       "      <th>soma_valor_beneficio</th>\n",
       "      <th>count_valor_beneficio</th>\n",
       "    </tr>\n",
       "  </thead>\n",
       "  <tbody>\n",
       "    <tr>\n",
       "      <th>0</th>\n",
       "      <td>1100015.0</td>\n",
       "      <td>RO</td>\n",
       "      <td>ALTA FLORESTA D'OESTE</td>\n",
       "      <td>202004</td>\n",
       "      <td>Não há</td>\n",
       "      <td>1ª</td>\n",
       "      <td>2551200.0</td>\n",
       "      <td>3906</td>\n",
       "    </tr>\n",
       "    <tr>\n",
       "      <th>1</th>\n",
       "      <td>1100015.0</td>\n",
       "      <td>RO</td>\n",
       "      <td>ALTA FLORESTA D'OESTE</td>\n",
       "      <td>202004</td>\n",
       "      <td>Pagamento bloqueado ou cancelado</td>\n",
       "      <td>1ª</td>\n",
       "      <td>183000.0</td>\n",
       "      <td>286</td>\n",
       "    </tr>\n",
       "    <tr>\n",
       "      <th>2</th>\n",
       "      <td>1100015.0</td>\n",
       "      <td>RO</td>\n",
       "      <td>ALTA FLORESTA D'OESTE</td>\n",
       "      <td>202004</td>\n",
       "      <td>Valor devolvido à União.</td>\n",
       "      <td>1ª</td>\n",
       "      <td>3000.0</td>\n",
       "      <td>5</td>\n",
       "    </tr>\n",
       "    <tr>\n",
       "      <th>3</th>\n",
       "      <td>1100023.0</td>\n",
       "      <td>RO</td>\n",
       "      <td>ARIQUEMES</td>\n",
       "      <td>202004</td>\n",
       "      <td>Não há</td>\n",
       "      <td>1ª</td>\n",
       "      <td>12250800.0</td>\n",
       "      <td>17786</td>\n",
       "    </tr>\n",
       "    <tr>\n",
       "      <th>4</th>\n",
       "      <td>1100023.0</td>\n",
       "      <td>RO</td>\n",
       "      <td>ARIQUEMES</td>\n",
       "      <td>202004</td>\n",
       "      <td>Pagamento bloqueado ou cancelado</td>\n",
       "      <td>1ª</td>\n",
       "      <td>991800.0</td>\n",
       "      <td>1505</td>\n",
       "    </tr>\n",
       "  </tbody>\n",
       "</table>\n",
       "</div>"
      ],
      "text/plain": [
       "   CÓDIGO MUNICÍPIO IBGE  UF         NOME MUNICÍPIO  MÊS DISPONIBILIZAÇÃO  \\\n",
       "0              1100015.0  RO  ALTA FLORESTA D'OESTE                202004   \n",
       "1              1100015.0  RO  ALTA FLORESTA D'OESTE                202004   \n",
       "2              1100015.0  RO  ALTA FLORESTA D'OESTE                202004   \n",
       "3              1100023.0  RO              ARIQUEMES                202004   \n",
       "4              1100023.0  RO              ARIQUEMES                202004   \n",
       "\n",
       "                         OBSERVAÇÃO PARCELA  soma_valor_beneficio  \\\n",
       "0                            Não há      1ª             2551200.0   \n",
       "1  Pagamento bloqueado ou cancelado      1ª              183000.0   \n",
       "2          Valor devolvido à União.      1ª                3000.0   \n",
       "3                            Não há      1ª            12250800.0   \n",
       "4  Pagamento bloqueado ou cancelado      1ª              991800.0   \n",
       "\n",
       "   count_valor_beneficio  \n",
       "0                   3906  \n",
       "1                    286  \n",
       "2                      5  \n",
       "3                  17786  \n",
       "4                   1505  "
      ]
     },
     "execution_count": 27,
     "metadata": {},
     "output_type": "execute_result"
    }
   ],
   "source": [
    "aux_04_gb.head()"
   ]
  },
  {
   "cell_type": "code",
   "execution_count": 28,
   "metadata": {
    "ExecuteTime": {
     "end_time": "2021-04-03T17:13:21.446665Z",
     "start_time": "2021-04-03T17:13:21.437688Z"
    }
   },
   "outputs": [],
   "source": [
    "df=pd.DataFrame(aux_04_gb)"
   ]
  },
  {
   "cell_type": "code",
   "execution_count": 29,
   "metadata": {
    "ExecuteTime": {
     "end_time": "2021-04-03T17:13:23.419796Z",
     "start_time": "2021-04-03T17:13:23.295641Z"
    }
   },
   "outputs": [],
   "source": [
    "df.to_csv('auxilio_04.csv')"
   ]
  },
  {
   "cell_type": "code",
   "execution_count": null,
   "metadata": {},
   "outputs": [],
   "source": [
    "##Começa a importação do novo mes_mai05"
   ]
  },
  {
   "cell_type": "code",
   "execution_count": 17,
   "metadata": {
    "ExecuteTime": {
     "end_time": "2021-04-03T16:37:58.480283Z",
     "start_time": "2021-04-03T16:36:19.856766Z"
    }
   },
   "outputs": [],
   "source": [
    "#Importação base de auxílio emergencial\n",
    "Aux_05 = pd.read_csv ('202005_AuxilioEmergencial.csv',sep =';', encoding='latin1', usecols=['MÊS DISPONIBILIZAÇÃO','UF','CÓDIGO MUNICÍPIO IBGE','NOME MUNICÍPIO','VALOR BENEFÍCIO','OBSERVAÇÃO','PARCELA'])"
   ]
  },
  {
   "cell_type": "code",
   "execution_count": 18,
   "metadata": {
    "ExecuteTime": {
     "end_time": "2021-04-03T16:39:13.475274Z",
     "start_time": "2021-04-03T16:38:30.274143Z"
    }
   },
   "outputs": [],
   "source": [
    "Aux_05['VALOR BENEFÍCIO'] = Aux_05['VALOR BENEFÍCIO'].apply(lambda x: x.replace(',','.') ).astype(float)"
   ]
  },
  {
   "cell_type": "code",
   "execution_count": 19,
   "metadata": {
    "ExecuteTime": {
     "end_time": "2021-04-03T16:40:42.320445Z",
     "start_time": "2021-04-03T16:39:45.681358Z"
    }
   },
   "outputs": [],
   "source": [
    "aux_05_gb = Aux_05[['MÊS DISPONIBILIZAÇÃO','UF','CÓDIGO MUNICÍPIO IBGE','NOME MUNICÍPIO','OBSERVAÇÃO','PARCELA','VALOR BENEFÍCIO']].groupby(['CÓDIGO MUNICÍPIO IBGE','UF','NOME MUNICÍPIO','MÊS DISPONIBILIZAÇÃO','OBSERVAÇÃO','PARCELA'],as_index=False).agg(soma_valor_beneficio = ('VALOR BENEFÍCIO','sum'),count_valor_beneficio = ('VALOR BENEFÍCIO','count'))"
   ]
  },
  {
   "cell_type": "code",
   "execution_count": 20,
   "metadata": {
    "ExecuteTime": {
     "end_time": "2021-04-03T16:41:03.573146Z",
     "start_time": "2021-04-03T16:41:03.531373Z"
    },
    "collapsed": true
   },
   "outputs": [
    {
     "data": {
      "text/html": [
       "<div>\n",
       "<style scoped>\n",
       "    .dataframe tbody tr th:only-of-type {\n",
       "        vertical-align: middle;\n",
       "    }\n",
       "\n",
       "    .dataframe tbody tr th {\n",
       "        vertical-align: top;\n",
       "    }\n",
       "\n",
       "    .dataframe thead th {\n",
       "        text-align: right;\n",
       "    }\n",
       "</style>\n",
       "<table border=\"1\" class=\"dataframe\">\n",
       "  <thead>\n",
       "    <tr style=\"text-align: right;\">\n",
       "      <th></th>\n",
       "      <th>CÓDIGO MUNICÍPIO IBGE</th>\n",
       "      <th>UF</th>\n",
       "      <th>NOME MUNICÍPIO</th>\n",
       "      <th>MÊS DISPONIBILIZAÇÃO</th>\n",
       "      <th>OBSERVAÇÃO</th>\n",
       "      <th>PARCELA</th>\n",
       "      <th>soma_valor_beneficio</th>\n",
       "      <th>count_valor_beneficio</th>\n",
       "    </tr>\n",
       "  </thead>\n",
       "  <tbody>\n",
       "    <tr>\n",
       "      <th>0</th>\n",
       "      <td>1100015.0</td>\n",
       "      <td>RO</td>\n",
       "      <td>ALTA FLORESTA D'OESTE</td>\n",
       "      <td>202005</td>\n",
       "      <td>Não há</td>\n",
       "      <td>1ª</td>\n",
       "      <td>834600.0</td>\n",
       "      <td>1304</td>\n",
       "    </tr>\n",
       "    <tr>\n",
       "      <th>1</th>\n",
       "      <td>1100015.0</td>\n",
       "      <td>RO</td>\n",
       "      <td>ALTA FLORESTA D'OESTE</td>\n",
       "      <td>202005</td>\n",
       "      <td>Não há</td>\n",
       "      <td>2ª</td>\n",
       "      <td>2685000.0</td>\n",
       "      <td>4113</td>\n",
       "    </tr>\n",
       "    <tr>\n",
       "      <th>2</th>\n",
       "      <td>1100015.0</td>\n",
       "      <td>RO</td>\n",
       "      <td>ALTA FLORESTA D'OESTE</td>\n",
       "      <td>202005</td>\n",
       "      <td>Pagamento bloqueado ou cancelado</td>\n",
       "      <td>1ª</td>\n",
       "      <td>38400.0</td>\n",
       "      <td>60</td>\n",
       "    </tr>\n",
       "    <tr>\n",
       "      <th>3</th>\n",
       "      <td>1100015.0</td>\n",
       "      <td>RO</td>\n",
       "      <td>ALTA FLORESTA D'OESTE</td>\n",
       "      <td>202005</td>\n",
       "      <td>Pagamento bloqueado ou cancelado</td>\n",
       "      <td>2ª</td>\n",
       "      <td>136800.0</td>\n",
       "      <td>212</td>\n",
       "    </tr>\n",
       "    <tr>\n",
       "      <th>4</th>\n",
       "      <td>1100015.0</td>\n",
       "      <td>RO</td>\n",
       "      <td>ALTA FLORESTA D'OESTE</td>\n",
       "      <td>202005</td>\n",
       "      <td>Valor devolvido à União.</td>\n",
       "      <td>1ª</td>\n",
       "      <td>1800.0</td>\n",
       "      <td>2</td>\n",
       "    </tr>\n",
       "  </tbody>\n",
       "</table>\n",
       "</div>"
      ],
      "text/plain": [
       "   CÓDIGO MUNICÍPIO IBGE  UF         NOME MUNICÍPIO  MÊS DISPONIBILIZAÇÃO  \\\n",
       "0              1100015.0  RO  ALTA FLORESTA D'OESTE                202005   \n",
       "1              1100015.0  RO  ALTA FLORESTA D'OESTE                202005   \n",
       "2              1100015.0  RO  ALTA FLORESTA D'OESTE                202005   \n",
       "3              1100015.0  RO  ALTA FLORESTA D'OESTE                202005   \n",
       "4              1100015.0  RO  ALTA FLORESTA D'OESTE                202005   \n",
       "\n",
       "                         OBSERVAÇÃO PARCELA  soma_valor_beneficio  \\\n",
       "0                            Não há      1ª              834600.0   \n",
       "1                            Não há      2ª             2685000.0   \n",
       "2  Pagamento bloqueado ou cancelado      1ª               38400.0   \n",
       "3  Pagamento bloqueado ou cancelado      2ª              136800.0   \n",
       "4          Valor devolvido à União.      1ª                1800.0   \n",
       "\n",
       "   count_valor_beneficio  \n",
       "0                   1304  \n",
       "1                   4113  \n",
       "2                     60  \n",
       "3                    212  \n",
       "4                      2  "
      ]
     },
     "execution_count": 20,
     "metadata": {},
     "output_type": "execute_result"
    }
   ],
   "source": [
    "aux_05_gb.head()"
   ]
  },
  {
   "cell_type": "code",
   "execution_count": 21,
   "metadata": {
    "ExecuteTime": {
     "end_time": "2021-04-03T16:41:06.242315Z",
     "start_time": "2021-04-03T16:41:06.233210Z"
    }
   },
   "outputs": [],
   "source": [
    "df=pd.DataFrame(aux_05_gb)"
   ]
  },
  {
   "cell_type": "code",
   "execution_count": 23,
   "metadata": {
    "ExecuteTime": {
     "end_time": "2021-04-03T16:41:30.607794Z",
     "start_time": "2021-04-03T16:41:30.447212Z"
    }
   },
   "outputs": [],
   "source": [
    "df.to_csv('auxilio_05.csv')"
   ]
  },
  {
   "cell_type": "code",
   "execution_count": null,
   "metadata": {},
   "outputs": [],
   "source": [
    "##Começa a importação do novo mes_jul07"
   ]
  },
  {
   "cell_type": "code",
   "execution_count": 30,
   "metadata": {
    "ExecuteTime": {
     "end_time": "2021-04-03T17:22:48.355038Z",
     "start_time": "2021-04-03T17:21:00.524437Z"
    }
   },
   "outputs": [],
   "source": [
    "Aux_07 = pd.read_csv ('202007_AuxilioEmergencial.csv',sep =';', encoding='latin1', usecols=['MÊS DISPONIBILIZAÇÃO','UF','CÓDIGO MUNICÍPIO IBGE','NOME MUNICÍPIO','VALOR BENEFÍCIO','OBSERVAÇÃO','PARCELA'])"
   ]
  },
  {
   "cell_type": "code",
   "execution_count": 31,
   "metadata": {
    "ExecuteTime": {
     "end_time": "2021-04-03T17:25:48.502215Z",
     "start_time": "2021-04-03T17:25:02.746615Z"
    }
   },
   "outputs": [],
   "source": [
    "Aux_07['VALOR BENEFÍCIO'] = Aux_07['VALOR BENEFÍCIO'].apply(lambda x: x.replace(',','.') ).astype(float)"
   ]
  },
  {
   "cell_type": "code",
   "execution_count": 32,
   "metadata": {
    "ExecuteTime": {
     "end_time": "2021-04-03T17:27:52.534012Z",
     "start_time": "2021-04-03T17:26:47.405094Z"
    }
   },
   "outputs": [],
   "source": [
    "aux_07_gb = Aux_07[['MÊS DISPONIBILIZAÇÃO','UF','CÓDIGO MUNICÍPIO IBGE','NOME MUNICÍPIO','OBSERVAÇÃO','PARCELA','VALOR BENEFÍCIO']].groupby(['CÓDIGO MUNICÍPIO IBGE','UF','NOME MUNICÍPIO','MÊS DISPONIBILIZAÇÃO','OBSERVAÇÃO','PARCELA'],as_index=False).agg(soma_valor_beneficio = ('VALOR BENEFÍCIO','sum'),count_valor_beneficio = ('VALOR BENEFÍCIO','count'))"
   ]
  },
  {
   "cell_type": "code",
   "execution_count": 34,
   "metadata": {
    "ExecuteTime": {
     "end_time": "2021-04-03T17:36:45.618767Z",
     "start_time": "2021-04-03T17:36:45.572814Z"
    }
   },
   "outputs": [
    {
     "data": {
      "text/html": [
       "<div>\n",
       "<style scoped>\n",
       "    .dataframe tbody tr th:only-of-type {\n",
       "        vertical-align: middle;\n",
       "    }\n",
       "\n",
       "    .dataframe tbody tr th {\n",
       "        vertical-align: top;\n",
       "    }\n",
       "\n",
       "    .dataframe thead th {\n",
       "        text-align: right;\n",
       "    }\n",
       "</style>\n",
       "<table border=\"1\" class=\"dataframe\">\n",
       "  <thead>\n",
       "    <tr style=\"text-align: right;\">\n",
       "      <th></th>\n",
       "      <th>CÓDIGO MUNICÍPIO IBGE</th>\n",
       "      <th>UF</th>\n",
       "      <th>NOME MUNICÍPIO</th>\n",
       "      <th>MÊS DISPONIBILIZAÇÃO</th>\n",
       "      <th>OBSERVAÇÃO</th>\n",
       "      <th>PARCELA</th>\n",
       "      <th>soma_valor_beneficio</th>\n",
       "      <th>count_valor_beneficio</th>\n",
       "    </tr>\n",
       "  </thead>\n",
       "  <tbody>\n",
       "    <tr>\n",
       "      <th>0</th>\n",
       "      <td>1100015.0</td>\n",
       "      <td>RO</td>\n",
       "      <td>ALTA FLORESTA D'OESTE</td>\n",
       "      <td>202007</td>\n",
       "      <td>Não há</td>\n",
       "      <td>1ª</td>\n",
       "      <td>121800.0</td>\n",
       "      <td>186</td>\n",
       "    </tr>\n",
       "    <tr>\n",
       "      <th>1</th>\n",
       "      <td>1100015.0</td>\n",
       "      <td>RO</td>\n",
       "      <td>ALTA FLORESTA D'OESTE</td>\n",
       "      <td>202007</td>\n",
       "      <td>Não há</td>\n",
       "      <td>2ª</td>\n",
       "      <td>684600.0</td>\n",
       "      <td>1065</td>\n",
       "    </tr>\n",
       "    <tr>\n",
       "      <th>2</th>\n",
       "      <td>1100015.0</td>\n",
       "      <td>RO</td>\n",
       "      <td>ALTA FLORESTA D'OESTE</td>\n",
       "      <td>202007</td>\n",
       "      <td>Não há</td>\n",
       "      <td>3ª</td>\n",
       "      <td>2061600.0</td>\n",
       "      <td>3158</td>\n",
       "    </tr>\n",
       "    <tr>\n",
       "      <th>3</th>\n",
       "      <td>1100015.0</td>\n",
       "      <td>RO</td>\n",
       "      <td>ALTA FLORESTA D'OESTE</td>\n",
       "      <td>202007</td>\n",
       "      <td>Não há</td>\n",
       "      <td>4ª</td>\n",
       "      <td>856800.0</td>\n",
       "      <td>1313</td>\n",
       "    </tr>\n",
       "    <tr>\n",
       "      <th>4</th>\n",
       "      <td>1100015.0</td>\n",
       "      <td>RO</td>\n",
       "      <td>ALTA FLORESTA D'OESTE</td>\n",
       "      <td>202007</td>\n",
       "      <td>Pagamento bloqueado ou cancelado</td>\n",
       "      <td>1ª</td>\n",
       "      <td>7800.0</td>\n",
       "      <td>12</td>\n",
       "    </tr>\n",
       "  </tbody>\n",
       "</table>\n",
       "</div>"
      ],
      "text/plain": [
       "   CÓDIGO MUNICÍPIO IBGE  UF         NOME MUNICÍPIO  MÊS DISPONIBILIZAÇÃO  \\\n",
       "0              1100015.0  RO  ALTA FLORESTA D'OESTE                202007   \n",
       "1              1100015.0  RO  ALTA FLORESTA D'OESTE                202007   \n",
       "2              1100015.0  RO  ALTA FLORESTA D'OESTE                202007   \n",
       "3              1100015.0  RO  ALTA FLORESTA D'OESTE                202007   \n",
       "4              1100015.0  RO  ALTA FLORESTA D'OESTE                202007   \n",
       "\n",
       "                         OBSERVAÇÃO PARCELA  soma_valor_beneficio  \\\n",
       "0                            Não há      1ª              121800.0   \n",
       "1                            Não há      2ª              684600.0   \n",
       "2                            Não há      3ª             2061600.0   \n",
       "3                            Não há      4ª              856800.0   \n",
       "4  Pagamento bloqueado ou cancelado      1ª                7800.0   \n",
       "\n",
       "   count_valor_beneficio  \n",
       "0                    186  \n",
       "1                   1065  \n",
       "2                   3158  \n",
       "3                   1313  \n",
       "4                     12  "
      ]
     },
     "execution_count": 34,
     "metadata": {},
     "output_type": "execute_result"
    }
   ],
   "source": [
    "aux_07_gb.head()"
   ]
  },
  {
   "cell_type": "code",
   "execution_count": 33,
   "metadata": {
    "ExecuteTime": {
     "end_time": "2021-04-03T17:36:41.248546Z",
     "start_time": "2021-04-03T17:36:41.230572Z"
    }
   },
   "outputs": [],
   "source": [
    "df=pd.DataFrame(aux_07_gb)"
   ]
  },
  {
   "cell_type": "code",
   "execution_count": 35,
   "metadata": {
    "ExecuteTime": {
     "end_time": "2021-04-03T17:36:50.415816Z",
     "start_time": "2021-04-03T17:36:50.108721Z"
    }
   },
   "outputs": [],
   "source": [
    "df.to_csv('auxilio_07.csv')"
   ]
  },
  {
   "cell_type": "code",
   "execution_count": null,
   "metadata": {},
   "outputs": [],
   "source": [
    "##Começa a importação do novo mes_ago08"
   ]
  },
  {
   "cell_type": "code",
   "execution_count": 36,
   "metadata": {
    "ExecuteTime": {
     "end_time": "2021-04-03T17:55:19.889239Z",
     "start_time": "2021-04-03T17:53:13.436828Z"
    }
   },
   "outputs": [],
   "source": [
    "Aux_08 = pd.read_csv ('202008_AuxilioEmergencial.csv',sep =';', encoding='latin1', usecols=['MÊS DISPONIBILIZAÇÃO','UF','CÓDIGO MUNICÍPIO IBGE','NOME MUNICÍPIO','VALOR BENEFÍCIO','OBSERVAÇÃO','PARCELA'])"
   ]
  },
  {
   "cell_type": "code",
   "execution_count": 37,
   "metadata": {
    "ExecuteTime": {
     "end_time": "2021-04-03T17:56:04.947876Z",
     "start_time": "2021-04-03T17:55:26.962984Z"
    }
   },
   "outputs": [],
   "source": [
    "Aux_08['VALOR BENEFÍCIO'] = Aux_08['VALOR BENEFÍCIO'].apply(lambda x: x.replace(',','.') ).astype(float)"
   ]
  },
  {
   "cell_type": "code",
   "execution_count": 38,
   "metadata": {
    "ExecuteTime": {
     "end_time": "2021-04-03T17:56:57.404931Z",
     "start_time": "2021-04-03T17:56:09.516684Z"
    }
   },
   "outputs": [],
   "source": [
    "aux_08_gb = Aux_08[['MÊS DISPONIBILIZAÇÃO','UF','CÓDIGO MUNICÍPIO IBGE','NOME MUNICÍPIO','OBSERVAÇÃO','PARCELA','VALOR BENEFÍCIO']].groupby(['CÓDIGO MUNICÍPIO IBGE','UF','NOME MUNICÍPIO','MÊS DISPONIBILIZAÇÃO','OBSERVAÇÃO','PARCELA'],as_index=False).agg(soma_valor_beneficio = ('VALOR BENEFÍCIO','sum'),count_valor_beneficio = ('VALOR BENEFÍCIO','count'))"
   ]
  },
  {
   "cell_type": "code",
   "execution_count": 39,
   "metadata": {
    "ExecuteTime": {
     "end_time": "2021-04-03T17:57:03.153913Z",
     "start_time": "2021-04-03T17:57:03.106041Z"
    }
   },
   "outputs": [
    {
     "data": {
      "text/html": [
       "<div>\n",
       "<style scoped>\n",
       "    .dataframe tbody tr th:only-of-type {\n",
       "        vertical-align: middle;\n",
       "    }\n",
       "\n",
       "    .dataframe tbody tr th {\n",
       "        vertical-align: top;\n",
       "    }\n",
       "\n",
       "    .dataframe thead th {\n",
       "        text-align: right;\n",
       "    }\n",
       "</style>\n",
       "<table border=\"1\" class=\"dataframe\">\n",
       "  <thead>\n",
       "    <tr style=\"text-align: right;\">\n",
       "      <th></th>\n",
       "      <th>CÓDIGO MUNICÍPIO IBGE</th>\n",
       "      <th>UF</th>\n",
       "      <th>NOME MUNICÍPIO</th>\n",
       "      <th>MÊS DISPONIBILIZAÇÃO</th>\n",
       "      <th>OBSERVAÇÃO</th>\n",
       "      <th>PARCELA</th>\n",
       "      <th>soma_valor_beneficio</th>\n",
       "      <th>count_valor_beneficio</th>\n",
       "    </tr>\n",
       "  </thead>\n",
       "  <tbody>\n",
       "    <tr>\n",
       "      <th>0</th>\n",
       "      <td>1100015.0</td>\n",
       "      <td>RO</td>\n",
       "      <td>ALTA FLORESTA D'OESTE</td>\n",
       "      <td>202008</td>\n",
       "      <td>Não há</td>\n",
       "      <td>1ª</td>\n",
       "      <td>88200.0</td>\n",
       "      <td>133</td>\n",
       "    </tr>\n",
       "    <tr>\n",
       "      <th>1</th>\n",
       "      <td>1100015.0</td>\n",
       "      <td>RO</td>\n",
       "      <td>ALTA FLORESTA D'OESTE</td>\n",
       "      <td>202008</td>\n",
       "      <td>Não há</td>\n",
       "      <td>2ª</td>\n",
       "      <td>467400.0</td>\n",
       "      <td>719</td>\n",
       "    </tr>\n",
       "    <tr>\n",
       "      <th>2</th>\n",
       "      <td>1100015.0</td>\n",
       "      <td>RO</td>\n",
       "      <td>ALTA FLORESTA D'OESTE</td>\n",
       "      <td>202008</td>\n",
       "      <td>Não há</td>\n",
       "      <td>3ª</td>\n",
       "      <td>520800.0</td>\n",
       "      <td>817</td>\n",
       "    </tr>\n",
       "    <tr>\n",
       "      <th>3</th>\n",
       "      <td>1100015.0</td>\n",
       "      <td>RO</td>\n",
       "      <td>ALTA FLORESTA D'OESTE</td>\n",
       "      <td>202008</td>\n",
       "      <td>Não há</td>\n",
       "      <td>4ª</td>\n",
       "      <td>1869600.0</td>\n",
       "      <td>2866</td>\n",
       "    </tr>\n",
       "    <tr>\n",
       "      <th>4</th>\n",
       "      <td>1100015.0</td>\n",
       "      <td>RO</td>\n",
       "      <td>ALTA FLORESTA D'OESTE</td>\n",
       "      <td>202008</td>\n",
       "      <td>Não há</td>\n",
       "      <td>5ª</td>\n",
       "      <td>221400.0</td>\n",
       "      <td>338</td>\n",
       "    </tr>\n",
       "  </tbody>\n",
       "</table>\n",
       "</div>"
      ],
      "text/plain": [
       "   CÓDIGO MUNICÍPIO IBGE  UF         NOME MUNICÍPIO  MÊS DISPONIBILIZAÇÃO  \\\n",
       "0              1100015.0  RO  ALTA FLORESTA D'OESTE                202008   \n",
       "1              1100015.0  RO  ALTA FLORESTA D'OESTE                202008   \n",
       "2              1100015.0  RO  ALTA FLORESTA D'OESTE                202008   \n",
       "3              1100015.0  RO  ALTA FLORESTA D'OESTE                202008   \n",
       "4              1100015.0  RO  ALTA FLORESTA D'OESTE                202008   \n",
       "\n",
       "  OBSERVAÇÃO PARCELA  soma_valor_beneficio  count_valor_beneficio  \n",
       "0     Não há      1ª               88200.0                    133  \n",
       "1     Não há      2ª              467400.0                    719  \n",
       "2     Não há      3ª              520800.0                    817  \n",
       "3     Não há      4ª             1869600.0                   2866  \n",
       "4     Não há      5ª              221400.0                    338  "
      ]
     },
     "execution_count": 39,
     "metadata": {},
     "output_type": "execute_result"
    }
   ],
   "source": [
    "aux_08_gb.head()"
   ]
  },
  {
   "cell_type": "code",
   "execution_count": 40,
   "metadata": {
    "ExecuteTime": {
     "end_time": "2021-04-03T17:57:13.161879Z",
     "start_time": "2021-04-03T17:57:13.155894Z"
    }
   },
   "outputs": [],
   "source": [
    "df=pd.DataFrame(aux_08_gb)"
   ]
  },
  {
   "cell_type": "code",
   "execution_count": 41,
   "metadata": {
    "ExecuteTime": {
     "end_time": "2021-04-03T17:57:16.214024Z",
     "start_time": "2021-04-03T17:57:15.886718Z"
    }
   },
   "outputs": [],
   "source": [
    "df.to_csv('auxilio_08.csv')"
   ]
  },
  {
   "cell_type": "code",
   "execution_count": null,
   "metadata": {},
   "outputs": [],
   "source": [
    "##Começa a importação do novo mes_set09"
   ]
  },
  {
   "cell_type": "code",
   "execution_count": 2,
   "metadata": {
    "ExecuteTime": {
     "end_time": "2021-04-03T18:18:45.332839Z",
     "start_time": "2021-04-03T18:16:25.174112Z"
    }
   },
   "outputs": [],
   "source": [
    "Aux_09 = pd.read_csv ('202009_AuxilioEmergencial.csv',sep =';', encoding='latin1', usecols=['MÊS DISPONIBILIZAÇÃO','UF','CÓDIGO MUNICÍPIO IBGE','NOME MUNICÍPIO','VALOR BENEFÍCIO','OBSERVAÇÃO','PARCELA'])"
   ]
  },
  {
   "cell_type": "code",
   "execution_count": 3,
   "metadata": {
    "ExecuteTime": {
     "end_time": "2021-04-03T18:20:37.169892Z",
     "start_time": "2021-04-03T18:19:43.631404Z"
    }
   },
   "outputs": [],
   "source": [
    "Aux_09['VALOR BENEFÍCIO'] = Aux_09['VALOR BENEFÍCIO'].apply(lambda x: x.replace(',','.') ).astype(float)"
   ]
  },
  {
   "cell_type": "code",
   "execution_count": 4,
   "metadata": {
    "ExecuteTime": {
     "end_time": "2021-04-03T18:21:44.839649Z",
     "start_time": "2021-04-03T18:20:57.691956Z"
    }
   },
   "outputs": [],
   "source": [
    "aux_09_gb = Aux_09[['MÊS DISPONIBILIZAÇÃO','UF','CÓDIGO MUNICÍPIO IBGE','NOME MUNICÍPIO','OBSERVAÇÃO','PARCELA','VALOR BENEFÍCIO']].groupby(['CÓDIGO MUNICÍPIO IBGE','UF','NOME MUNICÍPIO','MÊS DISPONIBILIZAÇÃO','OBSERVAÇÃO','PARCELA'],as_index=False).agg(soma_valor_beneficio = ('VALOR BENEFÍCIO','sum'),count_valor_beneficio = ('VALOR BENEFÍCIO','count'))"
   ]
  },
  {
   "cell_type": "code",
   "execution_count": 5,
   "metadata": {
    "ExecuteTime": {
     "end_time": "2021-04-03T18:22:45.421667Z",
     "start_time": "2021-04-03T18:22:45.319825Z"
    }
   },
   "outputs": [
    {
     "data": {
      "text/html": [
       "<div>\n",
       "<style scoped>\n",
       "    .dataframe tbody tr th:only-of-type {\n",
       "        vertical-align: middle;\n",
       "    }\n",
       "\n",
       "    .dataframe tbody tr th {\n",
       "        vertical-align: top;\n",
       "    }\n",
       "\n",
       "    .dataframe thead th {\n",
       "        text-align: right;\n",
       "    }\n",
       "</style>\n",
       "<table border=\"1\" class=\"dataframe\">\n",
       "  <thead>\n",
       "    <tr style=\"text-align: right;\">\n",
       "      <th></th>\n",
       "      <th>CÓDIGO MUNICÍPIO IBGE</th>\n",
       "      <th>UF</th>\n",
       "      <th>NOME MUNICÍPIO</th>\n",
       "      <th>MÊS DISPONIBILIZAÇÃO</th>\n",
       "      <th>OBSERVAÇÃO</th>\n",
       "      <th>PARCELA</th>\n",
       "      <th>soma_valor_beneficio</th>\n",
       "      <th>count_valor_beneficio</th>\n",
       "    </tr>\n",
       "  </thead>\n",
       "  <tbody>\n",
       "    <tr>\n",
       "      <th>0</th>\n",
       "      <td>1100015.0</td>\n",
       "      <td>RO</td>\n",
       "      <td>ALTA FLORESTA D'OESTE</td>\n",
       "      <td>202009</td>\n",
       "      <td>Não há</td>\n",
       "      <td>1ª</td>\n",
       "      <td>10200.0</td>\n",
       "      <td>17</td>\n",
       "    </tr>\n",
       "    <tr>\n",
       "      <th>1</th>\n",
       "      <td>1100015.0</td>\n",
       "      <td>RO</td>\n",
       "      <td>ALTA FLORESTA D'OESTE</td>\n",
       "      <td>202009</td>\n",
       "      <td>Não há</td>\n",
       "      <td>2ª</td>\n",
       "      <td>100200.0</td>\n",
       "      <td>150</td>\n",
       "    </tr>\n",
       "    <tr>\n",
       "      <th>2</th>\n",
       "      <td>1100015.0</td>\n",
       "      <td>RO</td>\n",
       "      <td>ALTA FLORESTA D'OESTE</td>\n",
       "      <td>202009</td>\n",
       "      <td>Não há</td>\n",
       "      <td>3ª</td>\n",
       "      <td>628800.0</td>\n",
       "      <td>965</td>\n",
       "    </tr>\n",
       "    <tr>\n",
       "      <th>3</th>\n",
       "      <td>1100015.0</td>\n",
       "      <td>RO</td>\n",
       "      <td>ALTA FLORESTA D'OESTE</td>\n",
       "      <td>202009</td>\n",
       "      <td>Não há</td>\n",
       "      <td>4ª</td>\n",
       "      <td>688800.0</td>\n",
       "      <td>1077</td>\n",
       "    </tr>\n",
       "    <tr>\n",
       "      <th>4</th>\n",
       "      <td>1100015.0</td>\n",
       "      <td>RO</td>\n",
       "      <td>ALTA FLORESTA D'OESTE</td>\n",
       "      <td>202009</td>\n",
       "      <td>Não há</td>\n",
       "      <td>5ª</td>\n",
       "      <td>2505000.0</td>\n",
       "      <td>3842</td>\n",
       "    </tr>\n",
       "  </tbody>\n",
       "</table>\n",
       "</div>"
      ],
      "text/plain": [
       "   CÓDIGO MUNICÍPIO IBGE  UF         NOME MUNICÍPIO  MÊS DISPONIBILIZAÇÃO  \\\n",
       "0              1100015.0  RO  ALTA FLORESTA D'OESTE                202009   \n",
       "1              1100015.0  RO  ALTA FLORESTA D'OESTE                202009   \n",
       "2              1100015.0  RO  ALTA FLORESTA D'OESTE                202009   \n",
       "3              1100015.0  RO  ALTA FLORESTA D'OESTE                202009   \n",
       "4              1100015.0  RO  ALTA FLORESTA D'OESTE                202009   \n",
       "\n",
       "  OBSERVAÇÃO PARCELA  soma_valor_beneficio  count_valor_beneficio  \n",
       "0     Não há      1ª               10200.0                     17  \n",
       "1     Não há      2ª              100200.0                    150  \n",
       "2     Não há      3ª              628800.0                    965  \n",
       "3     Não há      4ª              688800.0                   1077  \n",
       "4     Não há      5ª             2505000.0                   3842  "
      ]
     },
     "execution_count": 5,
     "metadata": {},
     "output_type": "execute_result"
    }
   ],
   "source": [
    "aux_09_gb.head()"
   ]
  },
  {
   "cell_type": "code",
   "execution_count": 6,
   "metadata": {
    "ExecuteTime": {
     "end_time": "2021-04-03T18:22:48.783716Z",
     "start_time": "2021-04-03T18:22:48.774558Z"
    }
   },
   "outputs": [],
   "source": [
    "df=pd.DataFrame(aux_09_gb)"
   ]
  },
  {
   "cell_type": "code",
   "execution_count": 7,
   "metadata": {
    "ExecuteTime": {
     "end_time": "2021-04-03T18:22:53.092837Z",
     "start_time": "2021-04-03T18:22:52.781511Z"
    }
   },
   "outputs": [],
   "source": [
    "df.to_csv('auxilio_09.csv')"
   ]
  },
  {
   "cell_type": "code",
   "execution_count": null,
   "metadata": {},
   "outputs": [],
   "source": [
    "##Começa a importação do novo mes_out10"
   ]
  },
  {
   "cell_type": "code",
   "execution_count": 8,
   "metadata": {
    "ExecuteTime": {
     "end_time": "2021-04-03T18:26:18.493664Z",
     "start_time": "2021-04-03T18:23:59.692822Z"
    }
   },
   "outputs": [],
   "source": [
    "Aux_10 = pd.read_csv ('202010_AuxilioEmergencial.csv',sep =';', encoding='latin1', usecols=['MÊS DISPONIBILIZAÇÃO','UF','CÓDIGO MUNICÍPIO IBGE','NOME MUNICÍPIO','VALOR BENEFÍCIO','OBSERVAÇÃO','PARCELA'])"
   ]
  },
  {
   "cell_type": "code",
   "execution_count": 9,
   "metadata": {
    "ExecuteTime": {
     "end_time": "2021-04-03T18:29:11.750228Z",
     "start_time": "2021-04-03T18:28:26.098543Z"
    }
   },
   "outputs": [],
   "source": [
    "Aux_10['VALOR BENEFÍCIO'] = Aux_10['VALOR BENEFÍCIO'].apply(lambda x: x.replace(',','.') ).astype(float)"
   ]
  },
  {
   "cell_type": "code",
   "execution_count": 10,
   "metadata": {
    "ExecuteTime": {
     "end_time": "2021-04-03T18:29:55.333517Z",
     "start_time": "2021-04-03T18:29:11.925607Z"
    }
   },
   "outputs": [],
   "source": [
    "aux_10_gb = Aux_10[['MÊS DISPONIBILIZAÇÃO','UF','CÓDIGO MUNICÍPIO IBGE','NOME MUNICÍPIO','OBSERVAÇÃO','PARCELA','VALOR BENEFÍCIO']].groupby(['CÓDIGO MUNICÍPIO IBGE','UF','NOME MUNICÍPIO','MÊS DISPONIBILIZAÇÃO','OBSERVAÇÃO','PARCELA'],as_index=False).agg(soma_valor_beneficio = ('VALOR BENEFÍCIO','sum'),count_valor_beneficio = ('VALOR BENEFÍCIO','count'))"
   ]
  },
  {
   "cell_type": "code",
   "execution_count": 11,
   "metadata": {
    "ExecuteTime": {
     "end_time": "2021-04-03T18:29:55.475233Z",
     "start_time": "2021-04-03T18:29:55.429824Z"
    }
   },
   "outputs": [
    {
     "data": {
      "text/html": [
       "<div>\n",
       "<style scoped>\n",
       "    .dataframe tbody tr th:only-of-type {\n",
       "        vertical-align: middle;\n",
       "    }\n",
       "\n",
       "    .dataframe tbody tr th {\n",
       "        vertical-align: top;\n",
       "    }\n",
       "\n",
       "    .dataframe thead th {\n",
       "        text-align: right;\n",
       "    }\n",
       "</style>\n",
       "<table border=\"1\" class=\"dataframe\">\n",
       "  <thead>\n",
       "    <tr style=\"text-align: right;\">\n",
       "      <th></th>\n",
       "      <th>CÓDIGO MUNICÍPIO IBGE</th>\n",
       "      <th>UF</th>\n",
       "      <th>NOME MUNICÍPIO</th>\n",
       "      <th>MÊS DISPONIBILIZAÇÃO</th>\n",
       "      <th>OBSERVAÇÃO</th>\n",
       "      <th>PARCELA</th>\n",
       "      <th>soma_valor_beneficio</th>\n",
       "      <th>count_valor_beneficio</th>\n",
       "    </tr>\n",
       "  </thead>\n",
       "  <tbody>\n",
       "    <tr>\n",
       "      <th>0</th>\n",
       "      <td>1100015.0</td>\n",
       "      <td>RO</td>\n",
       "      <td>ALTA FLORESTA D'OESTE</td>\n",
       "      <td>202010</td>\n",
       "      <td>Não há</td>\n",
       "      <td>1ª</td>\n",
       "      <td>16200.0</td>\n",
       "      <td>22</td>\n",
       "    </tr>\n",
       "    <tr>\n",
       "      <th>1</th>\n",
       "      <td>1100015.0</td>\n",
       "      <td>RO</td>\n",
       "      <td>ALTA FLORESTA D'OESTE</td>\n",
       "      <td>202010</td>\n",
       "      <td>Não há</td>\n",
       "      <td>2ª</td>\n",
       "      <td>8400.0</td>\n",
       "      <td>14</td>\n",
       "    </tr>\n",
       "    <tr>\n",
       "      <th>2</th>\n",
       "      <td>1100015.0</td>\n",
       "      <td>RO</td>\n",
       "      <td>ALTA FLORESTA D'OESTE</td>\n",
       "      <td>202010</td>\n",
       "      <td>Não há</td>\n",
       "      <td>3ª</td>\n",
       "      <td>87600.0</td>\n",
       "      <td>130</td>\n",
       "    </tr>\n",
       "    <tr>\n",
       "      <th>3</th>\n",
       "      <td>1100015.0</td>\n",
       "      <td>RO</td>\n",
       "      <td>ALTA FLORESTA D'OESTE</td>\n",
       "      <td>202010</td>\n",
       "      <td>Não há</td>\n",
       "      <td>4ª</td>\n",
       "      <td>560400.0</td>\n",
       "      <td>860</td>\n",
       "    </tr>\n",
       "    <tr>\n",
       "      <th>4</th>\n",
       "      <td>1100015.0</td>\n",
       "      <td>RO</td>\n",
       "      <td>ALTA FLORESTA D'OESTE</td>\n",
       "      <td>202010</td>\n",
       "      <td>Não há</td>\n",
       "      <td>5ª</td>\n",
       "      <td>618600.0</td>\n",
       "      <td>971</td>\n",
       "    </tr>\n",
       "  </tbody>\n",
       "</table>\n",
       "</div>"
      ],
      "text/plain": [
       "   CÓDIGO MUNICÍPIO IBGE  UF         NOME MUNICÍPIO  MÊS DISPONIBILIZAÇÃO  \\\n",
       "0              1100015.0  RO  ALTA FLORESTA D'OESTE                202010   \n",
       "1              1100015.0  RO  ALTA FLORESTA D'OESTE                202010   \n",
       "2              1100015.0  RO  ALTA FLORESTA D'OESTE                202010   \n",
       "3              1100015.0  RO  ALTA FLORESTA D'OESTE                202010   \n",
       "4              1100015.0  RO  ALTA FLORESTA D'OESTE                202010   \n",
       "\n",
       "  OBSERVAÇÃO PARCELA  soma_valor_beneficio  count_valor_beneficio  \n",
       "0     Não há      1ª               16200.0                     22  \n",
       "1     Não há      2ª                8400.0                     14  \n",
       "2     Não há      3ª               87600.0                    130  \n",
       "3     Não há      4ª              560400.0                    860  \n",
       "4     Não há      5ª              618600.0                    971  "
      ]
     },
     "execution_count": 11,
     "metadata": {},
     "output_type": "execute_result"
    }
   ],
   "source": [
    "aux_10_gb.head()"
   ]
  },
  {
   "cell_type": "code",
   "execution_count": 12,
   "metadata": {
    "ExecuteTime": {
     "end_time": "2021-04-03T18:29:55.538470Z",
     "start_time": "2021-04-03T18:29:55.524688Z"
    }
   },
   "outputs": [],
   "source": [
    "df=pd.DataFrame(aux_10_gb)"
   ]
  },
  {
   "cell_type": "code",
   "execution_count": 13,
   "metadata": {
    "ExecuteTime": {
     "end_time": "2021-04-03T18:30:12.519441Z",
     "start_time": "2021-04-03T18:30:12.250433Z"
    }
   },
   "outputs": [],
   "source": [
    "df.to_csv('auxilio_10.csv')"
   ]
  },
  {
   "cell_type": "code",
   "execution_count": null,
   "metadata": {},
   "outputs": [],
   "source": [
    "##Começa a importação do novo mes_nov11"
   ]
  },
  {
   "cell_type": "code",
   "execution_count": 15,
   "metadata": {
    "ExecuteTime": {
     "end_time": "2021-04-03T18:34:52.482842Z",
     "start_time": "2021-04-03T18:31:55.339701Z"
    }
   },
   "outputs": [],
   "source": [
    "Aux_11 = pd.read_csv ('202011_AuxilioEmergencial.csv',sep =';', encoding='latin1', usecols=['MÊS DISPONIBILIZAÇÃO','UF','CÓDIGO MUNICÍPIO IBGE','NOME MUNICÍPIO','VALOR BENEFÍCIO','OBSERVAÇÃO','PARCELA'])"
   ]
  },
  {
   "cell_type": "code",
   "execution_count": 16,
   "metadata": {
    "ExecuteTime": {
     "end_time": "2021-04-03T18:36:34.841011Z",
     "start_time": "2021-04-03T18:35:00.954881Z"
    }
   },
   "outputs": [],
   "source": [
    "Aux_11['VALOR BENEFÍCIO'] = Aux_11['VALOR BENEFÍCIO'].apply(lambda x: x.replace(',','.') ).astype(float)"
   ]
  },
  {
   "cell_type": "code",
   "execution_count": 17,
   "metadata": {
    "ExecuteTime": {
     "end_time": "2021-04-03T18:38:00.731078Z",
     "start_time": "2021-04-03T18:36:40.158065Z"
    }
   },
   "outputs": [],
   "source": [
    "aux_11_gb = Aux_11[['MÊS DISPONIBILIZAÇÃO','UF','CÓDIGO MUNICÍPIO IBGE','NOME MUNICÍPIO','OBSERVAÇÃO','PARCELA','VALOR BENEFÍCIO']].groupby(['CÓDIGO MUNICÍPIO IBGE','UF','NOME MUNICÍPIO','MÊS DISPONIBILIZAÇÃO','OBSERVAÇÃO','PARCELA'],as_index=False).agg(soma_valor_beneficio = ('VALOR BENEFÍCIO','sum'),count_valor_beneficio = ('VALOR BENEFÍCIO','count'))"
   ]
  },
  {
   "cell_type": "code",
   "execution_count": 18,
   "metadata": {
    "ExecuteTime": {
     "end_time": "2021-04-03T18:38:04.683236Z",
     "start_time": "2021-04-03T18:38:04.640050Z"
    }
   },
   "outputs": [
    {
     "data": {
      "text/html": [
       "<div>\n",
       "<style scoped>\n",
       "    .dataframe tbody tr th:only-of-type {\n",
       "        vertical-align: middle;\n",
       "    }\n",
       "\n",
       "    .dataframe tbody tr th {\n",
       "        vertical-align: top;\n",
       "    }\n",
       "\n",
       "    .dataframe thead th {\n",
       "        text-align: right;\n",
       "    }\n",
       "</style>\n",
       "<table border=\"1\" class=\"dataframe\">\n",
       "  <thead>\n",
       "    <tr style=\"text-align: right;\">\n",
       "      <th></th>\n",
       "      <th>CÓDIGO MUNICÍPIO IBGE</th>\n",
       "      <th>UF</th>\n",
       "      <th>NOME MUNICÍPIO</th>\n",
       "      <th>MÊS DISPONIBILIZAÇÃO</th>\n",
       "      <th>OBSERVAÇÃO</th>\n",
       "      <th>PARCELA</th>\n",
       "      <th>soma_valor_beneficio</th>\n",
       "      <th>count_valor_beneficio</th>\n",
       "    </tr>\n",
       "  </thead>\n",
       "  <tbody>\n",
       "    <tr>\n",
       "      <th>0</th>\n",
       "      <td>1100015.0</td>\n",
       "      <td>RO</td>\n",
       "      <td>ALTA FLORESTA D'OESTE</td>\n",
       "      <td>202011</td>\n",
       "      <td>Não há</td>\n",
       "      <td>1ª</td>\n",
       "      <td>9600.0</td>\n",
       "      <td>16</td>\n",
       "    </tr>\n",
       "    <tr>\n",
       "      <th>1</th>\n",
       "      <td>1100015.0</td>\n",
       "      <td>RO</td>\n",
       "      <td>ALTA FLORESTA D'OESTE</td>\n",
       "      <td>202011</td>\n",
       "      <td>Não há</td>\n",
       "      <td>2ª</td>\n",
       "      <td>20400.0</td>\n",
       "      <td>29</td>\n",
       "    </tr>\n",
       "    <tr>\n",
       "      <th>2</th>\n",
       "      <td>1100015.0</td>\n",
       "      <td>RO</td>\n",
       "      <td>ALTA FLORESTA D'OESTE</td>\n",
       "      <td>202011</td>\n",
       "      <td>Não há</td>\n",
       "      <td>3ª</td>\n",
       "      <td>23400.0</td>\n",
       "      <td>37</td>\n",
       "    </tr>\n",
       "    <tr>\n",
       "      <th>3</th>\n",
       "      <td>1100015.0</td>\n",
       "      <td>RO</td>\n",
       "      <td>ALTA FLORESTA D'OESTE</td>\n",
       "      <td>202011</td>\n",
       "      <td>Não há</td>\n",
       "      <td>4ª</td>\n",
       "      <td>162600.0</td>\n",
       "      <td>245</td>\n",
       "    </tr>\n",
       "    <tr>\n",
       "      <th>4</th>\n",
       "      <td>1100015.0</td>\n",
       "      <td>RO</td>\n",
       "      <td>ALTA FLORESTA D'OESTE</td>\n",
       "      <td>202011</td>\n",
       "      <td>Não há</td>\n",
       "      <td>5ª</td>\n",
       "      <td>726600.0</td>\n",
       "      <td>1111</td>\n",
       "    </tr>\n",
       "  </tbody>\n",
       "</table>\n",
       "</div>"
      ],
      "text/plain": [
       "   CÓDIGO MUNICÍPIO IBGE  UF         NOME MUNICÍPIO  MÊS DISPONIBILIZAÇÃO  \\\n",
       "0              1100015.0  RO  ALTA FLORESTA D'OESTE                202011   \n",
       "1              1100015.0  RO  ALTA FLORESTA D'OESTE                202011   \n",
       "2              1100015.0  RO  ALTA FLORESTA D'OESTE                202011   \n",
       "3              1100015.0  RO  ALTA FLORESTA D'OESTE                202011   \n",
       "4              1100015.0  RO  ALTA FLORESTA D'OESTE                202011   \n",
       "\n",
       "  OBSERVAÇÃO PARCELA  soma_valor_beneficio  count_valor_beneficio  \n",
       "0     Não há      1ª                9600.0                     16  \n",
       "1     Não há      2ª               20400.0                     29  \n",
       "2     Não há      3ª               23400.0                     37  \n",
       "3     Não há      4ª              162600.0                    245  \n",
       "4     Não há      5ª              726600.0                   1111  "
      ]
     },
     "execution_count": 18,
     "metadata": {},
     "output_type": "execute_result"
    }
   ],
   "source": [
    "aux_11_gb.head()"
   ]
  },
  {
   "cell_type": "code",
   "execution_count": 19,
   "metadata": {
    "ExecuteTime": {
     "end_time": "2021-04-03T18:38:07.439251Z",
     "start_time": "2021-04-03T18:38:07.430031Z"
    }
   },
   "outputs": [],
   "source": [
    "df=pd.DataFrame(aux_11_gb)"
   ]
  },
  {
   "cell_type": "code",
   "execution_count": 20,
   "metadata": {
    "ExecuteTime": {
     "end_time": "2021-04-03T18:38:09.946992Z",
     "start_time": "2021-04-03T18:38:09.653198Z"
    }
   },
   "outputs": [],
   "source": [
    "df.to_csv('auxilio_11.csv')"
   ]
  },
  {
   "cell_type": "code",
   "execution_count": 3,
   "metadata": {
    "ExecuteTime": {
     "end_time": "2021-04-04T15:30:18.546846Z",
     "start_time": "2021-04-04T15:30:18.103537Z"
    }
   },
   "outputs": [],
   "source": [
    "df1 = pd.read_csv ('auxilio_04.csv')\n",
    "df2 = pd.read_csv ('auxilio_05.csv')\n",
    "df3 = pd.read_csv ('auxilio_06.csv')\n",
    "df4 = pd.read_csv ('auxilio_07.csv')\n",
    "df5 = pd.read_csv ('auxilio_08.csv')\n",
    "df6 = pd.read_csv ('auxilio_09.csv')\n",
    "df7 = pd.read_csv ('auxilio_10.csv')\n",
    "df8 = pd.read_csv ('auxilio_11.csv')\n",
    "df9 = pd.read_csv ('auxilio_12.csv')"
   ]
  },
  {
   "cell_type": "code",
   "execution_count": 4,
   "metadata": {
    "ExecuteTime": {
     "end_time": "2021-04-04T15:30:20.867826Z",
     "start_time": "2021-04-04T15:30:20.853864Z"
    }
   },
   "outputs": [
    {
     "data": {
      "text/plain": [
       "Index(['Unnamed: 0', 'CÓDIGO MUNICÍPIO IBGE', 'UF', 'NOME MUNICÍPIO',\n",
       "       'MÊS DISPONIBILIZAÇÃO', 'OBSERVAÇÃO', 'PARCELA', 'soma_valor_beneficio',\n",
       "       'count_valor_beneficio'],\n",
       "      dtype='object')"
      ]
     },
     "execution_count": 4,
     "metadata": {},
     "output_type": "execute_result"
    }
   ],
   "source": [
    "df1.columns"
   ]
  },
  {
   "cell_type": "code",
   "execution_count": 5,
   "metadata": {
    "ExecuteTime": {
     "end_time": "2021-04-04T15:30:28.413559Z",
     "start_time": "2021-04-04T15:30:28.341584Z"
    },
    "scrolled": true
   },
   "outputs": [
    {
     "data": {
      "text/html": [
       "<div>\n",
       "<style scoped>\n",
       "    .dataframe tbody tr th:only-of-type {\n",
       "        vertical-align: middle;\n",
       "    }\n",
       "\n",
       "    .dataframe tbody tr th {\n",
       "        vertical-align: top;\n",
       "    }\n",
       "\n",
       "    .dataframe thead th {\n",
       "        text-align: right;\n",
       "    }\n",
       "</style>\n",
       "<table border=\"1\" class=\"dataframe\">\n",
       "  <thead>\n",
       "    <tr style=\"text-align: right;\">\n",
       "      <th></th>\n",
       "      <th>Unnamed: 0</th>\n",
       "      <th>CÓDIGO MUNICÍPIO IBGE</th>\n",
       "      <th>UF</th>\n",
       "      <th>NOME MUNICÍPIO</th>\n",
       "      <th>MÊS DISPONIBILIZAÇÃO</th>\n",
       "      <th>OBSERVAÇÃO</th>\n",
       "      <th>PARCELA</th>\n",
       "      <th>soma_valor_beneficio</th>\n",
       "      <th>count_valor_beneficio</th>\n",
       "    </tr>\n",
       "  </thead>\n",
       "  <tbody>\n",
       "    <tr>\n",
       "      <th>0</th>\n",
       "      <td>0</td>\n",
       "      <td>1100015.0</td>\n",
       "      <td>RO</td>\n",
       "      <td>ALTA FLORESTA D'OESTE</td>\n",
       "      <td>202004</td>\n",
       "      <td>Não há</td>\n",
       "      <td>1ª</td>\n",
       "      <td>2551200.0</td>\n",
       "      <td>3906</td>\n",
       "    </tr>\n",
       "    <tr>\n",
       "      <th>1</th>\n",
       "      <td>1</td>\n",
       "      <td>1100015.0</td>\n",
       "      <td>RO</td>\n",
       "      <td>ALTA FLORESTA D'OESTE</td>\n",
       "      <td>202004</td>\n",
       "      <td>Pagamento bloqueado ou cancelado</td>\n",
       "      <td>1ª</td>\n",
       "      <td>183000.0</td>\n",
       "      <td>286</td>\n",
       "    </tr>\n",
       "    <tr>\n",
       "      <th>2</th>\n",
       "      <td>2</td>\n",
       "      <td>1100015.0</td>\n",
       "      <td>RO</td>\n",
       "      <td>ALTA FLORESTA D'OESTE</td>\n",
       "      <td>202004</td>\n",
       "      <td>Valor devolvido à União.</td>\n",
       "      <td>1ª</td>\n",
       "      <td>3000.0</td>\n",
       "      <td>5</td>\n",
       "    </tr>\n",
       "    <tr>\n",
       "      <th>3</th>\n",
       "      <td>3</td>\n",
       "      <td>1100023.0</td>\n",
       "      <td>RO</td>\n",
       "      <td>ARIQUEMES</td>\n",
       "      <td>202004</td>\n",
       "      <td>Não há</td>\n",
       "      <td>1ª</td>\n",
       "      <td>12250800.0</td>\n",
       "      <td>17786</td>\n",
       "    </tr>\n",
       "    <tr>\n",
       "      <th>4</th>\n",
       "      <td>4</td>\n",
       "      <td>1100023.0</td>\n",
       "      <td>RO</td>\n",
       "      <td>ARIQUEMES</td>\n",
       "      <td>202004</td>\n",
       "      <td>Pagamento bloqueado ou cancelado</td>\n",
       "      <td>1ª</td>\n",
       "      <td>991800.0</td>\n",
       "      <td>1505</td>\n",
       "    </tr>\n",
       "  </tbody>\n",
       "</table>\n",
       "</div>"
      ],
      "text/plain": [
       "   Unnamed: 0  CÓDIGO MUNICÍPIO IBGE  UF         NOME MUNICÍPIO  \\\n",
       "0           0              1100015.0  RO  ALTA FLORESTA D'OESTE   \n",
       "1           1              1100015.0  RO  ALTA FLORESTA D'OESTE   \n",
       "2           2              1100015.0  RO  ALTA FLORESTA D'OESTE   \n",
       "3           3              1100023.0  RO              ARIQUEMES   \n",
       "4           4              1100023.0  RO              ARIQUEMES   \n",
       "\n",
       "   MÊS DISPONIBILIZAÇÃO                        OBSERVAÇÃO PARCELA  \\\n",
       "0                202004                            Não há      1ª   \n",
       "1                202004  Pagamento bloqueado ou cancelado      1ª   \n",
       "2                202004          Valor devolvido à União.      1ª   \n",
       "3                202004                            Não há      1ª   \n",
       "4                202004  Pagamento bloqueado ou cancelado      1ª   \n",
       "\n",
       "   soma_valor_beneficio  count_valor_beneficio  \n",
       "0             2551200.0                   3906  \n",
       "1              183000.0                    286  \n",
       "2                3000.0                      5  \n",
       "3            12250800.0                  17786  \n",
       "4              991800.0                   1505  "
      ]
     },
     "execution_count": 5,
     "metadata": {},
     "output_type": "execute_result"
    }
   ],
   "source": [
    "df_concat = pd.concat([df1, df2,df3,df4,df5,df6,df7,df8,df9])\n",
    "df_concat.head()"
   ]
  },
  {
   "cell_type": "code",
   "execution_count": 6,
   "metadata": {
    "ExecuteTime": {
     "end_time": "2021-04-04T15:30:31.216811Z",
     "start_time": "2021-04-04T15:30:31.115927Z"
    }
   },
   "outputs": [],
   "source": [
    "df_filter = df_concat.loc[df_concat['OBSERVAÇÃO']=='Não há']"
   ]
  },
  {
   "cell_type": "code",
   "execution_count": 7,
   "metadata": {
    "ExecuteTime": {
     "end_time": "2021-04-04T15:30:44.201347Z",
     "start_time": "2021-04-04T15:30:44.181437Z"
    },
    "scrolled": true
   },
   "outputs": [
    {
     "data": {
      "text/html": [
       "<div>\n",
       "<style scoped>\n",
       "    .dataframe tbody tr th:only-of-type {\n",
       "        vertical-align: middle;\n",
       "    }\n",
       "\n",
       "    .dataframe tbody tr th {\n",
       "        vertical-align: top;\n",
       "    }\n",
       "\n",
       "    .dataframe thead th {\n",
       "        text-align: right;\n",
       "    }\n",
       "</style>\n",
       "<table border=\"1\" class=\"dataframe\">\n",
       "  <thead>\n",
       "    <tr style=\"text-align: right;\">\n",
       "      <th></th>\n",
       "      <th>Unnamed: 0</th>\n",
       "      <th>CÓDIGO MUNICÍPIO IBGE</th>\n",
       "      <th>UF</th>\n",
       "      <th>NOME MUNICÍPIO</th>\n",
       "      <th>MÊS DISPONIBILIZAÇÃO</th>\n",
       "      <th>OBSERVAÇÃO</th>\n",
       "      <th>PARCELA</th>\n",
       "      <th>soma_valor_beneficio</th>\n",
       "      <th>count_valor_beneficio</th>\n",
       "    </tr>\n",
       "  </thead>\n",
       "  <tbody>\n",
       "  </tbody>\n",
       "</table>\n",
       "</div>"
      ],
      "text/plain": [
       "Empty DataFrame\n",
       "Columns: [Unnamed: 0, CÓDIGO MUNICÍPIO IBGE, UF, NOME MUNICÍPIO, MÊS DISPONIBILIZAÇÃO, OBSERVAÇÃO, PARCELA, soma_valor_beneficio, count_valor_beneficio]\n",
       "Index: []"
      ]
     },
     "execution_count": 7,
     "metadata": {},
     "output_type": "execute_result"
    }
   ],
   "source": [
    "df_concat.loc[df_concat['CÓDIGO MUNICÍPIO IBGE']=='CÓDIGO MUNICÍPIO IBGE']\n"
   ]
  },
  {
   "cell_type": "code",
   "execution_count": 9,
   "metadata": {
    "ExecuteTime": {
     "end_time": "2021-04-04T15:32:50.484815Z",
     "start_time": "2021-04-04T15:32:50.468940Z"
    },
    "scrolled": true
   },
   "outputs": [
    {
     "data": {
      "text/html": [
       "<div>\n",
       "<style scoped>\n",
       "    .dataframe tbody tr th:only-of-type {\n",
       "        vertical-align: middle;\n",
       "    }\n",
       "\n",
       "    .dataframe tbody tr th {\n",
       "        vertical-align: top;\n",
       "    }\n",
       "\n",
       "    .dataframe thead th {\n",
       "        text-align: right;\n",
       "    }\n",
       "</style>\n",
       "<table border=\"1\" class=\"dataframe\">\n",
       "  <thead>\n",
       "    <tr style=\"text-align: right;\">\n",
       "      <th></th>\n",
       "      <th>Unnamed: 0</th>\n",
       "      <th>CÓDIGO MUNICÍPIO IBGE</th>\n",
       "      <th>UF</th>\n",
       "      <th>NOME MUNICÍPIO</th>\n",
       "      <th>MÊS DISPONIBILIZAÇÃO</th>\n",
       "      <th>OBSERVAÇÃO</th>\n",
       "      <th>PARCELA</th>\n",
       "      <th>soma_valor_beneficio</th>\n",
       "      <th>count_valor_beneficio</th>\n",
       "    </tr>\n",
       "  </thead>\n",
       "  <tbody>\n",
       "    <tr>\n",
       "      <th>0</th>\n",
       "      <td>0</td>\n",
       "      <td>1100015.0</td>\n",
       "      <td>RO</td>\n",
       "      <td>ALTA FLORESTA D'OESTE</td>\n",
       "      <td>202004</td>\n",
       "      <td>Não há</td>\n",
       "      <td>1ª</td>\n",
       "      <td>2551200.0</td>\n",
       "      <td>3906</td>\n",
       "    </tr>\n",
       "    <tr>\n",
       "      <th>1</th>\n",
       "      <td>1</td>\n",
       "      <td>1100015.0</td>\n",
       "      <td>RO</td>\n",
       "      <td>ALTA FLORESTA D'OESTE</td>\n",
       "      <td>202004</td>\n",
       "      <td>Pagamento bloqueado ou cancelado</td>\n",
       "      <td>1ª</td>\n",
       "      <td>183000.0</td>\n",
       "      <td>286</td>\n",
       "    </tr>\n",
       "    <tr>\n",
       "      <th>2</th>\n",
       "      <td>2</td>\n",
       "      <td>1100015.0</td>\n",
       "      <td>RO</td>\n",
       "      <td>ALTA FLORESTA D'OESTE</td>\n",
       "      <td>202004</td>\n",
       "      <td>Valor devolvido à União.</td>\n",
       "      <td>1ª</td>\n",
       "      <td>3000.0</td>\n",
       "      <td>5</td>\n",
       "    </tr>\n",
       "    <tr>\n",
       "      <th>3</th>\n",
       "      <td>3</td>\n",
       "      <td>1100023.0</td>\n",
       "      <td>RO</td>\n",
       "      <td>ARIQUEMES</td>\n",
       "      <td>202004</td>\n",
       "      <td>Não há</td>\n",
       "      <td>1ª</td>\n",
       "      <td>12250800.0</td>\n",
       "      <td>17786</td>\n",
       "    </tr>\n",
       "    <tr>\n",
       "      <th>4</th>\n",
       "      <td>4</td>\n",
       "      <td>1100023.0</td>\n",
       "      <td>RO</td>\n",
       "      <td>ARIQUEMES</td>\n",
       "      <td>202004</td>\n",
       "      <td>Pagamento bloqueado ou cancelado</td>\n",
       "      <td>1ª</td>\n",
       "      <td>991800.0</td>\n",
       "      <td>1505</td>\n",
       "    </tr>\n",
       "  </tbody>\n",
       "</table>\n",
       "</div>"
      ],
      "text/plain": [
       "   Unnamed: 0  CÓDIGO MUNICÍPIO IBGE  UF         NOME MUNICÍPIO  \\\n",
       "0           0              1100015.0  RO  ALTA FLORESTA D'OESTE   \n",
       "1           1              1100015.0  RO  ALTA FLORESTA D'OESTE   \n",
       "2           2              1100015.0  RO  ALTA FLORESTA D'OESTE   \n",
       "3           3              1100023.0  RO              ARIQUEMES   \n",
       "4           4              1100023.0  RO              ARIQUEMES   \n",
       "\n",
       "   MÊS DISPONIBILIZAÇÃO                        OBSERVAÇÃO PARCELA  \\\n",
       "0                202004                            Não há      1ª   \n",
       "1                202004  Pagamento bloqueado ou cancelado      1ª   \n",
       "2                202004          Valor devolvido à União.      1ª   \n",
       "3                202004                            Não há      1ª   \n",
       "4                202004  Pagamento bloqueado ou cancelado      1ª   \n",
       "\n",
       "   soma_valor_beneficio  count_valor_beneficio  \n",
       "0             2551200.0                   3906  \n",
       "1              183000.0                    286  \n",
       "2                3000.0                      5  \n",
       "3            12250800.0                  17786  \n",
       "4              991800.0                   1505  "
      ]
     },
     "execution_count": 9,
     "metadata": {},
     "output_type": "execute_result"
    }
   ],
   "source": [
    "df_concat.head()"
   ]
  },
  {
   "cell_type": "code",
   "execution_count": 14,
   "metadata": {
    "ExecuteTime": {
     "end_time": "2021-04-04T15:35:43.884866Z",
     "start_time": "2021-04-04T15:35:43.843497Z"
    },
    "scrolled": true
   },
   "outputs": [
    {
     "data": {
      "text/html": [
       "<div>\n",
       "<style scoped>\n",
       "    .dataframe tbody tr th:only-of-type {\n",
       "        vertical-align: middle;\n",
       "    }\n",
       "\n",
       "    .dataframe tbody tr th {\n",
       "        vertical-align: top;\n",
       "    }\n",
       "\n",
       "    .dataframe thead th {\n",
       "        text-align: right;\n",
       "    }\n",
       "</style>\n",
       "<table border=\"1\" class=\"dataframe\">\n",
       "  <thead>\n",
       "    <tr style=\"text-align: right;\">\n",
       "      <th></th>\n",
       "      <th>CÓDIGO MUNICÍPIO IBGE</th>\n",
       "      <th>UF</th>\n",
       "      <th>NOME MUNICÍPIO</th>\n",
       "      <th>MÊS DISPONIBILIZAÇÃO</th>\n",
       "      <th>OBSERVAÇÃO</th>\n",
       "      <th>PARCELA</th>\n",
       "      <th>soma_valor_beneficio</th>\n",
       "      <th>count_valor_beneficio</th>\n",
       "    </tr>\n",
       "  </thead>\n",
       "  <tbody>\n",
       "    <tr>\n",
       "      <th>0</th>\n",
       "      <td>1100015.0</td>\n",
       "      <td>RO</td>\n",
       "      <td>ALTA FLORESTA D'OESTE</td>\n",
       "      <td>202004</td>\n",
       "      <td>Não há</td>\n",
       "      <td>1ª</td>\n",
       "      <td>2551200.0</td>\n",
       "      <td>3906</td>\n",
       "    </tr>\n",
       "    <tr>\n",
       "      <th>3</th>\n",
       "      <td>1100023.0</td>\n",
       "      <td>RO</td>\n",
       "      <td>ARIQUEMES</td>\n",
       "      <td>202004</td>\n",
       "      <td>Não há</td>\n",
       "      <td>1ª</td>\n",
       "      <td>12250800.0</td>\n",
       "      <td>17786</td>\n",
       "    </tr>\n",
       "    <tr>\n",
       "      <th>6</th>\n",
       "      <td>1100031.0</td>\n",
       "      <td>RO</td>\n",
       "      <td>CABIXI</td>\n",
       "      <td>202004</td>\n",
       "      <td>Não há</td>\n",
       "      <td>1ª</td>\n",
       "      <td>592200.0</td>\n",
       "      <td>884</td>\n",
       "    </tr>\n",
       "    <tr>\n",
       "      <th>9</th>\n",
       "      <td>1100049.0</td>\n",
       "      <td>RO</td>\n",
       "      <td>CACOAL</td>\n",
       "      <td>202004</td>\n",
       "      <td>Não há</td>\n",
       "      <td>1ª</td>\n",
       "      <td>8876400.0</td>\n",
       "      <td>13254</td>\n",
       "    </tr>\n",
       "    <tr>\n",
       "      <th>12</th>\n",
       "      <td>1100056.0</td>\n",
       "      <td>RO</td>\n",
       "      <td>CEREJEIRAS</td>\n",
       "      <td>202004</td>\n",
       "      <td>Não há</td>\n",
       "      <td>1ª</td>\n",
       "      <td>1992000.0</td>\n",
       "      <td>2987</td>\n",
       "    </tr>\n",
       "  </tbody>\n",
       "</table>\n",
       "</div>"
      ],
      "text/plain": [
       "    CÓDIGO MUNICÍPIO IBGE  UF         NOME MUNICÍPIO  MÊS DISPONIBILIZAÇÃO  \\\n",
       "0               1100015.0  RO  ALTA FLORESTA D'OESTE                202004   \n",
       "3               1100023.0  RO              ARIQUEMES                202004   \n",
       "6               1100031.0  RO                 CABIXI                202004   \n",
       "9               1100049.0  RO                 CACOAL                202004   \n",
       "12              1100056.0  RO             CEREJEIRAS                202004   \n",
       "\n",
       "   OBSERVAÇÃO PARCELA  soma_valor_beneficio  count_valor_beneficio  \n",
       "0      Não há      1ª             2551200.0                   3906  \n",
       "3      Não há      1ª            12250800.0                  17786  \n",
       "6      Não há      1ª              592200.0                    884  \n",
       "9      Não há      1ª             8876400.0                  13254  \n",
       "12     Não há      1ª             1992000.0                   2987  "
      ]
     },
     "execution_count": 14,
     "metadata": {},
     "output_type": "execute_result"
    }
   ],
   "source": [
    "df_final_aux = df_filter.drop(columns=['Unnamed: 0'])\n",
    "df_final_aux.head()"
   ]
  },
  {
   "cell_type": "code",
   "execution_count": 19,
   "metadata": {
    "ExecuteTime": {
     "end_time": "2021-04-04T15:37:40.083527Z",
     "start_time": "2021-04-04T15:37:38.919566Z"
    }
   },
   "outputs": [],
   "source": [
    "df_final_aux.to_csv('dataframe_auxilio_final.csv')"
   ]
  },
  {
   "cell_type": "code",
   "execution_count": 2,
   "metadata": {
    "ExecuteTime": {
     "end_time": "2021-04-05T19:49:16.621664Z",
     "start_time": "2021-04-05T19:49:16.616109Z"
    }
   },
   "outputs": [],
   "source": [
    "##Inciando analise##"
   ]
  },
  {
   "cell_type": "code",
   "execution_count": 4,
   "metadata": {
    "ExecuteTime": {
     "end_time": "2021-04-05T19:51:03.098983Z",
     "start_time": "2021-04-05T19:51:01.553555Z"
    },
    "scrolled": false
   },
   "outputs": [
    {
     "data": {
      "text/html": [
       "<div>\n",
       "<style scoped>\n",
       "    .dataframe tbody tr th:only-of-type {\n",
       "        vertical-align: middle;\n",
       "    }\n",
       "\n",
       "    .dataframe tbody tr th {\n",
       "        vertical-align: top;\n",
       "    }\n",
       "\n",
       "    .dataframe thead th {\n",
       "        text-align: right;\n",
       "    }\n",
       "</style>\n",
       "<table border=\"1\" class=\"dataframe\">\n",
       "  <thead>\n",
       "    <tr style=\"text-align: right;\">\n",
       "      <th></th>\n",
       "      <th>Unnamed: 0</th>\n",
       "      <th>codmun</th>\n",
       "      <th>estado</th>\n",
       "      <th>municipio</th>\n",
       "      <th>populacaoTCU2019</th>\n",
       "      <th>casosNovos</th>\n",
       "      <th>obitosNovos</th>\n",
       "      <th>periodo</th>\n",
       "    </tr>\n",
       "  </thead>\n",
       "  <tbody>\n",
       "    <tr>\n",
       "      <th>0</th>\n",
       "      <td>0</td>\n",
       "      <td>120001.0</td>\n",
       "      <td>AC</td>\n",
       "      <td>Acrelândia</td>\n",
       "      <td>15256.0</td>\n",
       "      <td>0</td>\n",
       "      <td>0</td>\n",
       "      <td>202003</td>\n",
       "    </tr>\n",
       "    <tr>\n",
       "      <th>1</th>\n",
       "      <td>1</td>\n",
       "      <td>120005.0</td>\n",
       "      <td>AC</td>\n",
       "      <td>Assis Brasil</td>\n",
       "      <td>7417.0</td>\n",
       "      <td>0</td>\n",
       "      <td>0</td>\n",
       "      <td>202003</td>\n",
       "    </tr>\n",
       "    <tr>\n",
       "      <th>2</th>\n",
       "      <td>2</td>\n",
       "      <td>120010.0</td>\n",
       "      <td>AC</td>\n",
       "      <td>Brasiléia</td>\n",
       "      <td>26278.0</td>\n",
       "      <td>0</td>\n",
       "      <td>0</td>\n",
       "      <td>202003</td>\n",
       "    </tr>\n",
       "    <tr>\n",
       "      <th>3</th>\n",
       "      <td>3</td>\n",
       "      <td>120013.0</td>\n",
       "      <td>AC</td>\n",
       "      <td>Bujari</td>\n",
       "      <td>10266.0</td>\n",
       "      <td>0</td>\n",
       "      <td>0</td>\n",
       "      <td>202003</td>\n",
       "    </tr>\n",
       "    <tr>\n",
       "      <th>4</th>\n",
       "      <td>4</td>\n",
       "      <td>120017.0</td>\n",
       "      <td>AC</td>\n",
       "      <td>Capixaba</td>\n",
       "      <td>11733.0</td>\n",
       "      <td>0</td>\n",
       "      <td>0</td>\n",
       "      <td>202003</td>\n",
       "    </tr>\n",
       "  </tbody>\n",
       "</table>\n",
       "</div>"
      ],
      "text/plain": [
       "   Unnamed: 0    codmun estado     municipio  populacaoTCU2019  casosNovos  \\\n",
       "0           0  120001.0     AC    Acrelândia           15256.0           0   \n",
       "1           1  120005.0     AC  Assis Brasil            7417.0           0   \n",
       "2           2  120010.0     AC     Brasiléia           26278.0           0   \n",
       "3           3  120013.0     AC        Bujari           10266.0           0   \n",
       "4           4  120017.0     AC      Capixaba           11733.0           0   \n",
       "\n",
       "   obitosNovos  periodo  \n",
       "0            0   202003  \n",
       "1            0   202003  \n",
       "2            0   202003  \n",
       "3            0   202003  \n",
       "4            0   202003  "
      ]
     },
     "execution_count": 4,
     "metadata": {},
     "output_type": "execute_result"
    }
   ],
   "source": [
    "df_cv = pd.read_csv('covid_final.csv')\n",
    "df_auxilio = pd.read_csv('dataframe_auxilio_final.csv')\n",
    "df_cv.head()"
   ]
  },
  {
   "cell_type": "code",
   "execution_count": 6,
   "metadata": {
    "ExecuteTime": {
     "end_time": "2021-04-05T19:52:54.871596Z",
     "start_time": "2021-04-05T19:52:54.858828Z"
    }
   },
   "outputs": [
    {
     "data": {
      "text/plain": [
       "Index(['Unnamed: 0', 'CÓDIGO MUNICÍPIO IBGE', 'UF', 'NOME MUNICÍPIO',\n",
       "       'MÊS DISPONIBILIZAÇÃO', 'OBSERVAÇÃO', 'PARCELA', 'soma_valor_beneficio',\n",
       "       'count_valor_beneficio'],\n",
       "      dtype='object')"
      ]
     },
     "execution_count": 6,
     "metadata": {},
     "output_type": "execute_result"
    }
   ],
   "source": [
    "df_auxilio.columns"
   ]
  },
  {
   "cell_type": "code",
   "execution_count": 14,
   "metadata": {
    "ExecuteTime": {
     "end_time": "2021-04-05T20:08:36.567226Z",
     "start_time": "2021-04-05T20:08:36.556120Z"
    }
   },
   "outputs": [
    {
     "data": {
      "text/plain": [
       "Index(['Unnamed: 0', 'CÓDIGO MUNICÍPIO IBGE', 'estado', 'municipio',\n",
       "       'populacaoTCU2019', 'casosNovos', 'obitosNovos', 'periodo'],\n",
       "      dtype='object')"
      ]
     },
     "execution_count": 14,
     "metadata": {},
     "output_type": "execute_result"
    }
   ],
   "source": [
    "df_cv.columns"
   ]
  },
  {
   "cell_type": "code",
   "execution_count": 13,
   "metadata": {
    "ExecuteTime": {
     "end_time": "2021-04-05T20:08:34.207583Z",
     "start_time": "2021-04-05T20:08:34.150567Z"
    }
   },
   "outputs": [],
   "source": [
    "df_cv = df_cv.rename(columns={'codmun':'CÓDIGO MUNICÍPIO IBGE'})"
   ]
  },
  {
   "cell_type": "code",
   "execution_count": 23,
   "metadata": {
    "ExecuteTime": {
     "end_time": "2021-04-05T20:23:26.989381Z",
     "start_time": "2021-04-05T20:23:26.976381Z"
    }
   },
   "outputs": [
    {
     "data": {
      "text/plain": [
       "Unnamed: 0                 int64\n",
       "CÓDIGO MUNICÍPIO IBGE    float64\n",
       "UF                        object\n",
       "NOME MUNICÍPIO            object\n",
       "MÊS DISPONIBILIZAÇÃO       int64\n",
       "OBSERVAÇÃO                object\n",
       "PARCELA                   object\n",
       "soma_valor_beneficio     float64\n",
       "count_valor_beneficio      int64\n",
       "dtype: object"
      ]
     },
     "execution_count": 23,
     "metadata": {},
     "output_type": "execute_result"
    }
   ],
   "source": [
    "df_auxilio.dtypes"
   ]
  },
  {
   "cell_type": "code",
   "execution_count": 24,
   "metadata": {
    "ExecuteTime": {
     "end_time": "2021-04-05T20:23:43.257180Z",
     "start_time": "2021-04-05T20:23:43.250584Z"
    }
   },
   "outputs": [
    {
     "data": {
      "text/plain": [
       "Unnamed: 0                 int64\n",
       "CÓDIGO MUNICÍPIO IBGE    float64\n",
       "estado                    object\n",
       "municipio                 object\n",
       "populacaoTCU2019         float64\n",
       "casosNovos                 int64\n",
       "obitosNovos                int64\n",
       "periodo                    int64\n",
       "dtype: object"
      ]
     },
     "execution_count": 24,
     "metadata": {},
     "output_type": "execute_result"
    }
   ],
   "source": [
    "df_cv.dtypes"
   ]
  },
  {
   "cell_type": "code",
   "execution_count": 21,
   "metadata": {
    "ExecuteTime": {
     "end_time": "2021-04-05T20:15:25.451079Z",
     "start_time": "2021-04-05T20:15:25.426513Z"
    }
   },
   "outputs": [
    {
     "data": {
      "text/plain": [
       "0          120001.0\n",
       "1          120005.0\n",
       "2          120010.0\n",
       "3          120013.0\n",
       "4          120017.0\n",
       "             ...   \n",
       "2060895    172120.0\n",
       "2060896    172125.0\n",
       "2060897    172130.0\n",
       "2060898    172208.0\n",
       "2060899    172210.0\n",
       "Name: CÓDIGO MUNICÍPIO IBGE, Length: 2060900, dtype: float64"
      ]
     },
     "execution_count": 21,
     "metadata": {},
     "output_type": "execute_result"
    }
   ],
   "source": [
    "df_auxilio['CÓDIGO MUNICÍPIO IBGE'].astype(float)\n",
    "df_cv['CÓDIGO MUNICÍPIO IBGE'].astype(float)"
   ]
  },
  {
   "cell_type": "code",
   "execution_count": 40,
   "metadata": {
    "ExecuteTime": {
     "end_time": "2021-04-06T21:33:50.885024Z",
     "start_time": "2021-04-06T21:33:50.688036Z"
    }
   },
   "outputs": [
    {
     "data": {
      "text/html": [
       "<div>\n",
       "<style scoped>\n",
       "    .dataframe tbody tr th:only-of-type {\n",
       "        vertical-align: middle;\n",
       "    }\n",
       "\n",
       "    .dataframe tbody tr th {\n",
       "        vertical-align: top;\n",
       "    }\n",
       "\n",
       "    .dataframe thead th {\n",
       "        text-align: right;\n",
       "    }\n",
       "</style>\n",
       "<table border=\"1\" class=\"dataframe\">\n",
       "  <thead>\n",
       "    <tr style=\"text-align: right;\">\n",
       "      <th></th>\n",
       "      <th>Unnamed: 0</th>\n",
       "      <th>CÓDIGO MUNICÍPIO IBGE</th>\n",
       "      <th>estado</th>\n",
       "      <th>municipio</th>\n",
       "      <th>populacaoTCU2019</th>\n",
       "      <th>casosNovos</th>\n",
       "      <th>obitosNovos</th>\n",
       "      <th>periodo</th>\n",
       "    </tr>\n",
       "  </thead>\n",
       "  <tbody>\n",
       "    <tr>\n",
       "      <th>2314</th>\n",
       "      <td>2314</td>\n",
       "      <td>510340.0</td>\n",
       "      <td>MT</td>\n",
       "      <td>CUIABÁ</td>\n",
       "      <td>612547.0</td>\n",
       "      <td>0</td>\n",
       "      <td>0</td>\n",
       "      <td>202003</td>\n",
       "    </tr>\n",
       "    <tr>\n",
       "      <th>7884</th>\n",
       "      <td>7884</td>\n",
       "      <td>510340.0</td>\n",
       "      <td>MT</td>\n",
       "      <td>CUIABÁ</td>\n",
       "      <td>612547.0</td>\n",
       "      <td>10</td>\n",
       "      <td>0</td>\n",
       "      <td>202003</td>\n",
       "    </tr>\n",
       "    <tr>\n",
       "      <th>13454</th>\n",
       "      <td>13454</td>\n",
       "      <td>510340.0</td>\n",
       "      <td>MT</td>\n",
       "      <td>CUIABÁ</td>\n",
       "      <td>612547.0</td>\n",
       "      <td>0</td>\n",
       "      <td>0</td>\n",
       "      <td>202003</td>\n",
       "    </tr>\n",
       "    <tr>\n",
       "      <th>19024</th>\n",
       "      <td>19024</td>\n",
       "      <td>510340.0</td>\n",
       "      <td>MT</td>\n",
       "      <td>CUIABÁ</td>\n",
       "      <td>612547.0</td>\n",
       "      <td>2</td>\n",
       "      <td>0</td>\n",
       "      <td>202003</td>\n",
       "    </tr>\n",
       "    <tr>\n",
       "      <th>24594</th>\n",
       "      <td>24594</td>\n",
       "      <td>510340.0</td>\n",
       "      <td>MT</td>\n",
       "      <td>CUIABÁ</td>\n",
       "      <td>612547.0</td>\n",
       "      <td>6</td>\n",
       "      <td>0</td>\n",
       "      <td>202003</td>\n",
       "    </tr>\n",
       "    <tr>\n",
       "      <th>...</th>\n",
       "      <td>...</td>\n",
       "      <td>...</td>\n",
       "      <td>...</td>\n",
       "      <td>...</td>\n",
       "      <td>...</td>\n",
       "      <td>...</td>\n",
       "      <td>...</td>\n",
       "      <td>...</td>\n",
       "    </tr>\n",
       "    <tr>\n",
       "      <th>2035364</th>\n",
       "      <td>2035364</td>\n",
       "      <td>510340.0</td>\n",
       "      <td>MT</td>\n",
       "      <td>CUIABÁ</td>\n",
       "      <td>612547.0</td>\n",
       "      <td>226</td>\n",
       "      <td>14</td>\n",
       "      <td>202103</td>\n",
       "    </tr>\n",
       "    <tr>\n",
       "      <th>2040934</th>\n",
       "      <td>2040934</td>\n",
       "      <td>510340.0</td>\n",
       "      <td>MT</td>\n",
       "      <td>CUIABÁ</td>\n",
       "      <td>612547.0</td>\n",
       "      <td>269</td>\n",
       "      <td>19</td>\n",
       "      <td>202103</td>\n",
       "    </tr>\n",
       "    <tr>\n",
       "      <th>2046504</th>\n",
       "      <td>2046504</td>\n",
       "      <td>510340.0</td>\n",
       "      <td>MT</td>\n",
       "      <td>CUIABÁ</td>\n",
       "      <td>612547.0</td>\n",
       "      <td>426</td>\n",
       "      <td>28</td>\n",
       "      <td>202103</td>\n",
       "    </tr>\n",
       "    <tr>\n",
       "      <th>2052074</th>\n",
       "      <td>2052074</td>\n",
       "      <td>510340.0</td>\n",
       "      <td>MT</td>\n",
       "      <td>CUIABÁ</td>\n",
       "      <td>612547.0</td>\n",
       "      <td>568</td>\n",
       "      <td>29</td>\n",
       "      <td>202103</td>\n",
       "    </tr>\n",
       "    <tr>\n",
       "      <th>2057644</th>\n",
       "      <td>2057644</td>\n",
       "      <td>510340.0</td>\n",
       "      <td>MT</td>\n",
       "      <td>CUIABÁ</td>\n",
       "      <td>612547.0</td>\n",
       "      <td>553</td>\n",
       "      <td>28</td>\n",
       "      <td>202103</td>\n",
       "    </tr>\n",
       "  </tbody>\n",
       "</table>\n",
       "<p>370 rows × 8 columns</p>\n",
       "</div>"
      ],
      "text/plain": [
       "         Unnamed: 0  CÓDIGO MUNICÍPIO IBGE estado municipio  populacaoTCU2019  \\\n",
       "2314           2314               510340.0     MT    CUIABÁ          612547.0   \n",
       "7884           7884               510340.0     MT    CUIABÁ          612547.0   \n",
       "13454         13454               510340.0     MT    CUIABÁ          612547.0   \n",
       "19024         19024               510340.0     MT    CUIABÁ          612547.0   \n",
       "24594         24594               510340.0     MT    CUIABÁ          612547.0   \n",
       "...             ...                    ...    ...       ...               ...   \n",
       "2035364     2035364               510340.0     MT    CUIABÁ          612547.0   \n",
       "2040934     2040934               510340.0     MT    CUIABÁ          612547.0   \n",
       "2046504     2046504               510340.0     MT    CUIABÁ          612547.0   \n",
       "2052074     2052074               510340.0     MT    CUIABÁ          612547.0   \n",
       "2057644     2057644               510340.0     MT    CUIABÁ          612547.0   \n",
       "\n",
       "         casosNovos  obitosNovos  periodo  \n",
       "2314              0            0   202003  \n",
       "7884             10            0   202003  \n",
       "13454             0            0   202003  \n",
       "19024             2            0   202003  \n",
       "24594             6            0   202003  \n",
       "...             ...          ...      ...  \n",
       "2035364         226           14   202103  \n",
       "2040934         269           19   202103  \n",
       "2046504         426           28   202103  \n",
       "2052074         568           29   202103  \n",
       "2057644         553           28   202103  \n",
       "\n",
       "[370 rows x 8 columns]"
      ]
     },
     "execution_count": 40,
     "metadata": {},
     "output_type": "execute_result"
    }
   ],
   "source": [
    "df_cv.loc[df_cv['municipio']=='CUIABÁ']"
   ]
  },
  {
   "cell_type": "code",
   "execution_count": 38,
   "metadata": {
    "ExecuteTime": {
     "end_time": "2021-04-06T21:33:40.287684Z",
     "start_time": "2021-04-06T21:33:39.236310Z"
    }
   },
   "outputs": [],
   "source": [
    "df_cv['municipio'] = df_cv['municipio'].str.upper()"
   ]
  },
  {
   "cell_type": "code",
   "execution_count": 51,
   "metadata": {
    "ExecuteTime": {
     "end_time": "2021-04-06T23:30:06.870250Z",
     "start_time": "2021-04-06T23:30:06.855392Z"
    }
   },
   "outputs": [],
   "source": [
    "def limpa_acento(row):\n",
    "        return unidecode.unidecode(row)\n"
   ]
  },
  {
   "cell_type": "code",
   "execution_count": 54,
   "metadata": {
    "ExecuteTime": {
     "end_time": "2021-04-06T23:32:45.817341Z",
     "start_time": "2021-04-06T23:32:38.911062Z"
    },
    "scrolled": false
   },
   "outputs": [],
   "source": [
    "df_cv['municipio'] = df_cv['municipio'].apply(limpa_acento)"
   ]
  },
  {
   "cell_type": "code",
   "execution_count": 62,
   "metadata": {
    "ExecuteTime": {
     "end_time": "2021-04-06T23:56:28.614162Z",
     "start_time": "2021-04-06T23:56:12.232615Z"
    }
   },
   "outputs": [],
   "source": [
    "df_cv.to_csv('base_covid.csv')"
   ]
  },
  {
   "cell_type": "code",
   "execution_count": 63,
   "metadata": {
    "ExecuteTime": {
     "end_time": "2021-04-06T23:57:38.803459Z",
     "start_time": "2021-04-06T23:57:35.621467Z"
    }
   },
   "outputs": [],
   "source": [
    "df_auxilio.to_csv('base_auxilio.csv')"
   ]
  },
  {
   "cell_type": "code",
   "execution_count": 57,
   "metadata": {
    "ExecuteTime": {
     "end_time": "2021-04-06T23:33:42.847695Z",
     "start_time": "2021-04-06T23:33:42.403428Z"
    }
   },
   "outputs": [
    {
     "data": {
      "text/html": [
       "<div>\n",
       "<style scoped>\n",
       "    .dataframe tbody tr th:only-of-type {\n",
       "        vertical-align: middle;\n",
       "    }\n",
       "\n",
       "    .dataframe tbody tr th {\n",
       "        vertical-align: top;\n",
       "    }\n",
       "\n",
       "    .dataframe thead th {\n",
       "        text-align: right;\n",
       "    }\n",
       "</style>\n",
       "<table border=\"1\" class=\"dataframe\">\n",
       "  <thead>\n",
       "    <tr style=\"text-align: right;\">\n",
       "      <th></th>\n",
       "      <th>Unnamed: 0</th>\n",
       "      <th>CÓDIGO MUNICÍPIO IBGE</th>\n",
       "      <th>estado</th>\n",
       "      <th>municipio</th>\n",
       "      <th>populacaoTCU2019</th>\n",
       "      <th>casosNovos</th>\n",
       "      <th>obitosNovos</th>\n",
       "      <th>periodo</th>\n",
       "    </tr>\n",
       "  </thead>\n",
       "  <tbody>\n",
       "    <tr>\n",
       "      <th>5348</th>\n",
       "      <td>5348</td>\n",
       "      <td>355030.0</td>\n",
       "      <td>SP</td>\n",
       "      <td>SAO PAULO</td>\n",
       "      <td>12252023.0</td>\n",
       "      <td>0</td>\n",
       "      <td>0</td>\n",
       "      <td>202003</td>\n",
       "    </tr>\n",
       "    <tr>\n",
       "      <th>10918</th>\n",
       "      <td>10918</td>\n",
       "      <td>355030.0</td>\n",
       "      <td>SP</td>\n",
       "      <td>SAO PAULO</td>\n",
       "      <td>12252023.0</td>\n",
       "      <td>1149</td>\n",
       "      <td>76</td>\n",
       "      <td>202003</td>\n",
       "    </tr>\n",
       "    <tr>\n",
       "      <th>16488</th>\n",
       "      <td>16488</td>\n",
       "      <td>355030.0</td>\n",
       "      <td>SP</td>\n",
       "      <td>SAO PAULO</td>\n",
       "      <td>12252023.0</td>\n",
       "      <td>34</td>\n",
       "      <td>13</td>\n",
       "      <td>202003</td>\n",
       "    </tr>\n",
       "    <tr>\n",
       "      <th>22058</th>\n",
       "      <td>22058</td>\n",
       "      <td>355030.0</td>\n",
       "      <td>SP</td>\n",
       "      <td>SAO PAULO</td>\n",
       "      <td>12252023.0</td>\n",
       "      <td>50</td>\n",
       "      <td>14</td>\n",
       "      <td>202003</td>\n",
       "    </tr>\n",
       "    <tr>\n",
       "      <th>27628</th>\n",
       "      <td>27628</td>\n",
       "      <td>355030.0</td>\n",
       "      <td>SP</td>\n",
       "      <td>SAO PAULO</td>\n",
       "      <td>12252023.0</td>\n",
       "      <td>652</td>\n",
       "      <td>18</td>\n",
       "      <td>202003</td>\n",
       "    </tr>\n",
       "    <tr>\n",
       "      <th>...</th>\n",
       "      <td>...</td>\n",
       "      <td>...</td>\n",
       "      <td>...</td>\n",
       "      <td>...</td>\n",
       "      <td>...</td>\n",
       "      <td>...</td>\n",
       "      <td>...</td>\n",
       "      <td>...</td>\n",
       "    </tr>\n",
       "    <tr>\n",
       "      <th>2038398</th>\n",
       "      <td>2038398</td>\n",
       "      <td>355030.0</td>\n",
       "      <td>SP</td>\n",
       "      <td>SAO PAULO</td>\n",
       "      <td>12252023.0</td>\n",
       "      <td>3709</td>\n",
       "      <td>277</td>\n",
       "      <td>202103</td>\n",
       "    </tr>\n",
       "    <tr>\n",
       "      <th>2043968</th>\n",
       "      <td>2043968</td>\n",
       "      <td>355030.0</td>\n",
       "      <td>SP</td>\n",
       "      <td>SAO PAULO</td>\n",
       "      <td>12252023.0</td>\n",
       "      <td>2010</td>\n",
       "      <td>32</td>\n",
       "      <td>202103</td>\n",
       "    </tr>\n",
       "    <tr>\n",
       "      <th>2049538</th>\n",
       "      <td>2049538</td>\n",
       "      <td>355030.0</td>\n",
       "      <td>SP</td>\n",
       "      <td>SAO PAULO</td>\n",
       "      <td>12252023.0</td>\n",
       "      <td>1242</td>\n",
       "      <td>118</td>\n",
       "      <td>202103</td>\n",
       "    </tr>\n",
       "    <tr>\n",
       "      <th>2055108</th>\n",
       "      <td>2055108</td>\n",
       "      <td>355030.0</td>\n",
       "      <td>SP</td>\n",
       "      <td>SAO PAULO</td>\n",
       "      <td>12252023.0</td>\n",
       "      <td>4748</td>\n",
       "      <td>279</td>\n",
       "      <td>202103</td>\n",
       "    </tr>\n",
       "    <tr>\n",
       "      <th>2060678</th>\n",
       "      <td>2060678</td>\n",
       "      <td>355030.0</td>\n",
       "      <td>SP</td>\n",
       "      <td>SAO PAULO</td>\n",
       "      <td>12252023.0</td>\n",
       "      <td>8348</td>\n",
       "      <td>291</td>\n",
       "      <td>202103</td>\n",
       "    </tr>\n",
       "  </tbody>\n",
       "</table>\n",
       "<p>370 rows × 8 columns</p>\n",
       "</div>"
      ],
      "text/plain": [
       "         Unnamed: 0  CÓDIGO MUNICÍPIO IBGE estado  municipio  \\\n",
       "5348           5348               355030.0     SP  SAO PAULO   \n",
       "10918         10918               355030.0     SP  SAO PAULO   \n",
       "16488         16488               355030.0     SP  SAO PAULO   \n",
       "22058         22058               355030.0     SP  SAO PAULO   \n",
       "27628         27628               355030.0     SP  SAO PAULO   \n",
       "...             ...                    ...    ...        ...   \n",
       "2038398     2038398               355030.0     SP  SAO PAULO   \n",
       "2043968     2043968               355030.0     SP  SAO PAULO   \n",
       "2049538     2049538               355030.0     SP  SAO PAULO   \n",
       "2055108     2055108               355030.0     SP  SAO PAULO   \n",
       "2060678     2060678               355030.0     SP  SAO PAULO   \n",
       "\n",
       "         populacaoTCU2019  casosNovos  obitosNovos  periodo  \n",
       "5348           12252023.0           0            0   202003  \n",
       "10918          12252023.0        1149           76   202003  \n",
       "16488          12252023.0          34           13   202003  \n",
       "22058          12252023.0          50           14   202003  \n",
       "27628          12252023.0         652           18   202003  \n",
       "...                   ...         ...          ...      ...  \n",
       "2038398        12252023.0        3709          277   202103  \n",
       "2043968        12252023.0        2010           32   202103  \n",
       "2049538        12252023.0        1242          118   202103  \n",
       "2055108        12252023.0        4748          279   202103  \n",
       "2060678        12252023.0        8348          291   202103  \n",
       "\n",
       "[370 rows x 8 columns]"
      ]
     },
     "execution_count": 57,
     "metadata": {},
     "output_type": "execute_result"
    }
   ],
   "source": [
    "df_cv.loc[df_cv['municipio']=='SAO PAULO']"
   ]
  },
  {
   "cell_type": "code",
   "execution_count": 36,
   "metadata": {
    "ExecuteTime": {
     "end_time": "2021-04-05T20:29:47.254182Z",
     "start_time": "2021-04-05T20:29:47.205659Z"
    }
   },
   "outputs": [
    {
     "data": {
      "text/html": [
       "<div>\n",
       "<style scoped>\n",
       "    .dataframe tbody tr th:only-of-type {\n",
       "        vertical-align: middle;\n",
       "    }\n",
       "\n",
       "    .dataframe tbody tr th {\n",
       "        vertical-align: top;\n",
       "    }\n",
       "\n",
       "    .dataframe thead th {\n",
       "        text-align: right;\n",
       "    }\n",
       "</style>\n",
       "<table border=\"1\" class=\"dataframe\">\n",
       "  <thead>\n",
       "    <tr style=\"text-align: right;\">\n",
       "      <th></th>\n",
       "      <th>Unnamed: 0</th>\n",
       "      <th>CÓDIGO MUNICÍPIO IBGE</th>\n",
       "      <th>UF</th>\n",
       "      <th>NOME MUNICÍPIO</th>\n",
       "      <th>MÊS DISPONIBILIZAÇÃO</th>\n",
       "      <th>OBSERVAÇÃO</th>\n",
       "      <th>PARCELA</th>\n",
       "      <th>soma_valor_beneficio</th>\n",
       "      <th>count_valor_beneficio</th>\n",
       "    </tr>\n",
       "  </thead>\n",
       "  <tbody>\n",
       "    <tr>\n",
       "      <th>5219</th>\n",
       "      <td>15259</td>\n",
       "      <td>5103403.0</td>\n",
       "      <td>MT</td>\n",
       "      <td>CUIABA</td>\n",
       "      <td>202004</td>\n",
       "      <td>Não há</td>\n",
       "      <td>1ª</td>\n",
       "      <td>67320000.0</td>\n",
       "      <td>99929</td>\n",
       "    </tr>\n",
       "    <tr>\n",
       "      <th>16008</th>\n",
       "      <td>29396</td>\n",
       "      <td>5103403.0</td>\n",
       "      <td>MT</td>\n",
       "      <td>CUIABA</td>\n",
       "      <td>202005</td>\n",
       "      <td>Não há</td>\n",
       "      <td>1ª</td>\n",
       "      <td>21891600.0</td>\n",
       "      <td>33888</td>\n",
       "    </tr>\n",
       "    <tr>\n",
       "      <th>16009</th>\n",
       "      <td>29397</td>\n",
       "      <td>5103403.0</td>\n",
       "      <td>MT</td>\n",
       "      <td>CUIABA</td>\n",
       "      <td>202005</td>\n",
       "      <td>Não há</td>\n",
       "      <td>2ª</td>\n",
       "      <td>69222600.0</td>\n",
       "      <td>102881</td>\n",
       "    </tr>\n",
       "    <tr>\n",
       "      <th>32367</th>\n",
       "      <td>37356</td>\n",
       "      <td>5103403.0</td>\n",
       "      <td>MT</td>\n",
       "      <td>CUIABA</td>\n",
       "      <td>202006</td>\n",
       "      <td>Não há</td>\n",
       "      <td>1ª</td>\n",
       "      <td>12592200.0</td>\n",
       "      <td>19119</td>\n",
       "    </tr>\n",
       "    <tr>\n",
       "      <th>32368</th>\n",
       "      <td>37357</td>\n",
       "      <td>5103403.0</td>\n",
       "      <td>MT</td>\n",
       "      <td>CUIABA</td>\n",
       "      <td>202006</td>\n",
       "      <td>Não há</td>\n",
       "      <td>2ª</td>\n",
       "      <td>6526200.0</td>\n",
       "      <td>10073</td>\n",
       "    </tr>\n",
       "    <tr>\n",
       "      <th>32369</th>\n",
       "      <td>37358</td>\n",
       "      <td>5103403.0</td>\n",
       "      <td>MT</td>\n",
       "      <td>CUIABA</td>\n",
       "      <td>202006</td>\n",
       "      <td>Não há</td>\n",
       "      <td>3ª</td>\n",
       "      <td>22393200.0</td>\n",
       "      <td>33286</td>\n",
       "    </tr>\n",
       "    <tr>\n",
       "      <th>54298</th>\n",
       "      <td>49807</td>\n",
       "      <td>5103403.0</td>\n",
       "      <td>MT</td>\n",
       "      <td>CUIABA</td>\n",
       "      <td>202007</td>\n",
       "      <td>Não há</td>\n",
       "      <td>1ª</td>\n",
       "      <td>2798400.0</td>\n",
       "      <td>4252</td>\n",
       "    </tr>\n",
       "    <tr>\n",
       "      <th>54299</th>\n",
       "      <td>49808</td>\n",
       "      <td>5103403.0</td>\n",
       "      <td>MT</td>\n",
       "      <td>CUIABA</td>\n",
       "      <td>202007</td>\n",
       "      <td>Não há</td>\n",
       "      <td>2ª</td>\n",
       "      <td>18138600.0</td>\n",
       "      <td>27940</td>\n",
       "    </tr>\n",
       "    <tr>\n",
       "      <th>54300</th>\n",
       "      <td>49809</td>\n",
       "      <td>5103403.0</td>\n",
       "      <td>MT</td>\n",
       "      <td>CUIABA</td>\n",
       "      <td>202007</td>\n",
       "      <td>Não há</td>\n",
       "      <td>3ª</td>\n",
       "      <td>53423400.0</td>\n",
       "      <td>79781</td>\n",
       "    </tr>\n",
       "    <tr>\n",
       "      <th>54301</th>\n",
       "      <td>49810</td>\n",
       "      <td>5103403.0</td>\n",
       "      <td>MT</td>\n",
       "      <td>CUIABA</td>\n",
       "      <td>202007</td>\n",
       "      <td>Não há</td>\n",
       "      <td>4ª</td>\n",
       "      <td>22519800.0</td>\n",
       "      <td>33488</td>\n",
       "    </tr>\n",
       "    <tr>\n",
       "      <th>81795</th>\n",
       "      <td>57221</td>\n",
       "      <td>5103403.0</td>\n",
       "      <td>MT</td>\n",
       "      <td>CUIABA</td>\n",
       "      <td>202008</td>\n",
       "      <td>Não há</td>\n",
       "      <td>1ª</td>\n",
       "      <td>3333000.0</td>\n",
       "      <td>5051</td>\n",
       "    </tr>\n",
       "    <tr>\n",
       "      <th>81796</th>\n",
       "      <td>57222</td>\n",
       "      <td>5103403.0</td>\n",
       "      <td>MT</td>\n",
       "      <td>CUIABA</td>\n",
       "      <td>202008</td>\n",
       "      <td>Não há</td>\n",
       "      <td>2ª</td>\n",
       "      <td>10231800.0</td>\n",
       "      <td>15525</td>\n",
       "    </tr>\n",
       "    <tr>\n",
       "      <th>81797</th>\n",
       "      <td>57223</td>\n",
       "      <td>5103403.0</td>\n",
       "      <td>MT</td>\n",
       "      <td>CUIABA</td>\n",
       "      <td>202008</td>\n",
       "      <td>Não há</td>\n",
       "      <td>3ª</td>\n",
       "      <td>14469600.0</td>\n",
       "      <td>22391</td>\n",
       "    </tr>\n",
       "    <tr>\n",
       "      <th>81798</th>\n",
       "      <td>57224</td>\n",
       "      <td>5103403.0</td>\n",
       "      <td>MT</td>\n",
       "      <td>CUIABA</td>\n",
       "      <td>202008</td>\n",
       "      <td>Não há</td>\n",
       "      <td>4ª</td>\n",
       "      <td>48288600.0</td>\n",
       "      <td>71915</td>\n",
       "    </tr>\n",
       "    <tr>\n",
       "      <th>81799</th>\n",
       "      <td>57225</td>\n",
       "      <td>5103403.0</td>\n",
       "      <td>MT</td>\n",
       "      <td>CUIABA</td>\n",
       "      <td>202008</td>\n",
       "      <td>Não há</td>\n",
       "      <td>5ª</td>\n",
       "      <td>5570400.0</td>\n",
       "      <td>8335</td>\n",
       "    </tr>\n",
       "    <tr>\n",
       "      <th>114705</th>\n",
       "      <td>55673</td>\n",
       "      <td>5103403.0</td>\n",
       "      <td>MT</td>\n",
       "      <td>CUIABA</td>\n",
       "      <td>202009</td>\n",
       "      <td>Não há</td>\n",
       "      <td>1ª</td>\n",
       "      <td>647400.0</td>\n",
       "      <td>969</td>\n",
       "    </tr>\n",
       "    <tr>\n",
       "      <th>114706</th>\n",
       "      <td>55674</td>\n",
       "      <td>5103403.0</td>\n",
       "      <td>MT</td>\n",
       "      <td>CUIABA</td>\n",
       "      <td>202009</td>\n",
       "      <td>Não há</td>\n",
       "      <td>2ª</td>\n",
       "      <td>3604800.0</td>\n",
       "      <td>5498</td>\n",
       "    </tr>\n",
       "    <tr>\n",
       "      <th>114707</th>\n",
       "      <td>55675</td>\n",
       "      <td>5103403.0</td>\n",
       "      <td>MT</td>\n",
       "      <td>CUIABA</td>\n",
       "      <td>202009</td>\n",
       "      <td>Não há</td>\n",
       "      <td>3ª</td>\n",
       "      <td>13956000.0</td>\n",
       "      <td>21146</td>\n",
       "    </tr>\n",
       "    <tr>\n",
       "      <th>114708</th>\n",
       "      <td>55676</td>\n",
       "      <td>5103403.0</td>\n",
       "      <td>MT</td>\n",
       "      <td>CUIABA</td>\n",
       "      <td>202009</td>\n",
       "      <td>Não há</td>\n",
       "      <td>4ª</td>\n",
       "      <td>19082400.0</td>\n",
       "      <td>29460</td>\n",
       "    </tr>\n",
       "    <tr>\n",
       "      <th>114709</th>\n",
       "      <td>55677</td>\n",
       "      <td>5103403.0</td>\n",
       "      <td>MT</td>\n",
       "      <td>CUIABA</td>\n",
       "      <td>202009</td>\n",
       "      <td>Não há</td>\n",
       "      <td>5ª</td>\n",
       "      <td>65275200.0</td>\n",
       "      <td>97126</td>\n",
       "    </tr>\n",
       "    <tr>\n",
       "      <th>114710</th>\n",
       "      <td>55678</td>\n",
       "      <td>5103403.0</td>\n",
       "      <td>MT</td>\n",
       "      <td>CUIABA</td>\n",
       "      <td>202009</td>\n",
       "      <td>Não há</td>\n",
       "      <td>6ª</td>\n",
       "      <td>2619900.0</td>\n",
       "      <td>7829</td>\n",
       "    </tr>\n",
       "    <tr>\n",
       "      <th>153000</th>\n",
       "      <td>47186</td>\n",
       "      <td>5103403.0</td>\n",
       "      <td>MT</td>\n",
       "      <td>CUIABA</td>\n",
       "      <td>202010</td>\n",
       "      <td>Não há</td>\n",
       "      <td>1ª</td>\n",
       "      <td>1236600.0</td>\n",
       "      <td>1835</td>\n",
       "    </tr>\n",
       "    <tr>\n",
       "      <th>153001</th>\n",
       "      <td>47187</td>\n",
       "      <td>5103403.0</td>\n",
       "      <td>MT</td>\n",
       "      <td>CUIABA</td>\n",
       "      <td>202010</td>\n",
       "      <td>Não há</td>\n",
       "      <td>2ª</td>\n",
       "      <td>558000.0</td>\n",
       "      <td>837</td>\n",
       "    </tr>\n",
       "    <tr>\n",
       "      <th>153002</th>\n",
       "      <td>47188</td>\n",
       "      <td>5103403.0</td>\n",
       "      <td>MT</td>\n",
       "      <td>CUIABA</td>\n",
       "      <td>202010</td>\n",
       "      <td>Não há</td>\n",
       "      <td>3ª</td>\n",
       "      <td>3075600.0</td>\n",
       "      <td>4695</td>\n",
       "    </tr>\n",
       "    <tr>\n",
       "      <th>153003</th>\n",
       "      <td>47189</td>\n",
       "      <td>5103403.0</td>\n",
       "      <td>MT</td>\n",
       "      <td>CUIABA</td>\n",
       "      <td>202010</td>\n",
       "      <td>Não há</td>\n",
       "      <td>4ª</td>\n",
       "      <td>12390600.0</td>\n",
       "      <td>18765</td>\n",
       "    </tr>\n",
       "    <tr>\n",
       "      <th>153004</th>\n",
       "      <td>47190</td>\n",
       "      <td>5103403.0</td>\n",
       "      <td>MT</td>\n",
       "      <td>CUIABA</td>\n",
       "      <td>202010</td>\n",
       "      <td>Não há</td>\n",
       "      <td>5ª</td>\n",
       "      <td>16896000.0</td>\n",
       "      <td>26083</td>\n",
       "    </tr>\n",
       "    <tr>\n",
       "      <th>153005</th>\n",
       "      <td>47191</td>\n",
       "      <td>5103403.0</td>\n",
       "      <td>MT</td>\n",
       "      <td>CUIABA</td>\n",
       "      <td>202010</td>\n",
       "      <td>Não há</td>\n",
       "      <td>6ª</td>\n",
       "      <td>28093200.0</td>\n",
       "      <td>83426</td>\n",
       "    </tr>\n",
       "    <tr>\n",
       "      <th>153006</th>\n",
       "      <td>47192</td>\n",
       "      <td>5103403.0</td>\n",
       "      <td>MT</td>\n",
       "      <td>CUIABA</td>\n",
       "      <td>202010</td>\n",
       "      <td>Não há</td>\n",
       "      <td>7ª</td>\n",
       "      <td>2560500.0</td>\n",
       "      <td>7647</td>\n",
       "    </tr>\n",
       "    <tr>\n",
       "      <th>196655</th>\n",
       "      <td>47470</td>\n",
       "      <td>5103403.0</td>\n",
       "      <td>MT</td>\n",
       "      <td>CUIABA</td>\n",
       "      <td>202011</td>\n",
       "      <td>Não há</td>\n",
       "      <td>1ª</td>\n",
       "      <td>678000.0</td>\n",
       "      <td>1006</td>\n",
       "    </tr>\n",
       "    <tr>\n",
       "      <th>196656</th>\n",
       "      <td>47471</td>\n",
       "      <td>5103403.0</td>\n",
       "      <td>MT</td>\n",
       "      <td>CUIABA</td>\n",
       "      <td>202011</td>\n",
       "      <td>Não há</td>\n",
       "      <td>2ª</td>\n",
       "      <td>1341000.0</td>\n",
       "      <td>1992</td>\n",
       "    </tr>\n",
       "    <tr>\n",
       "      <th>196657</th>\n",
       "      <td>47472</td>\n",
       "      <td>5103403.0</td>\n",
       "      <td>MT</td>\n",
       "      <td>CUIABA</td>\n",
       "      <td>202011</td>\n",
       "      <td>Não há</td>\n",
       "      <td>3ª</td>\n",
       "      <td>1330800.0</td>\n",
       "      <td>1995</td>\n",
       "    </tr>\n",
       "    <tr>\n",
       "      <th>196658</th>\n",
       "      <td>47473</td>\n",
       "      <td>5103403.0</td>\n",
       "      <td>MT</td>\n",
       "      <td>CUIABA</td>\n",
       "      <td>202011</td>\n",
       "      <td>Não há</td>\n",
       "      <td>4ª</td>\n",
       "      <td>4663200.0</td>\n",
       "      <td>7106</td>\n",
       "    </tr>\n",
       "    <tr>\n",
       "      <th>196659</th>\n",
       "      <td>47474</td>\n",
       "      <td>5103403.0</td>\n",
       "      <td>MT</td>\n",
       "      <td>CUIABA</td>\n",
       "      <td>202011</td>\n",
       "      <td>Não há</td>\n",
       "      <td>5ª</td>\n",
       "      <td>16403400.0</td>\n",
       "      <td>24935</td>\n",
       "    </tr>\n",
       "    <tr>\n",
       "      <th>196660</th>\n",
       "      <td>47475</td>\n",
       "      <td>5103403.0</td>\n",
       "      <td>MT</td>\n",
       "      <td>CUIABA</td>\n",
       "      <td>202011</td>\n",
       "      <td>Não há</td>\n",
       "      <td>6ª</td>\n",
       "      <td>13824900.0</td>\n",
       "      <td>42229</td>\n",
       "    </tr>\n",
       "    <tr>\n",
       "      <th>196661</th>\n",
       "      <td>47476</td>\n",
       "      <td>5103403.0</td>\n",
       "      <td>MT</td>\n",
       "      <td>CUIABA</td>\n",
       "      <td>202011</td>\n",
       "      <td>Não há</td>\n",
       "      <td>7ª</td>\n",
       "      <td>33677100.0</td>\n",
       "      <td>100377</td>\n",
       "    </tr>\n",
       "    <tr>\n",
       "      <th>196662</th>\n",
       "      <td>47477</td>\n",
       "      <td>5103403.0</td>\n",
       "      <td>MT</td>\n",
       "      <td>CUIABA</td>\n",
       "      <td>202011</td>\n",
       "      <td>Não há</td>\n",
       "      <td>8ª</td>\n",
       "      <td>15543300.0</td>\n",
       "      <td>46083</td>\n",
       "    </tr>\n",
       "    <tr>\n",
       "      <th>244832</th>\n",
       "      <td>52649</td>\n",
       "      <td>5103403.0</td>\n",
       "      <td>MT</td>\n",
       "      <td>CUIABA</td>\n",
       "      <td>202012</td>\n",
       "      <td>Não há</td>\n",
       "      <td>1ª</td>\n",
       "      <td>254400.0</td>\n",
       "      <td>360</td>\n",
       "    </tr>\n",
       "    <tr>\n",
       "      <th>244833</th>\n",
       "      <td>52650</td>\n",
       "      <td>5103403.0</td>\n",
       "      <td>MT</td>\n",
       "      <td>CUIABA</td>\n",
       "      <td>202012</td>\n",
       "      <td>Não há</td>\n",
       "      <td>2ª</td>\n",
       "      <td>597000.0</td>\n",
       "      <td>864</td>\n",
       "    </tr>\n",
       "    <tr>\n",
       "      <th>244834</th>\n",
       "      <td>52651</td>\n",
       "      <td>5103403.0</td>\n",
       "      <td>MT</td>\n",
       "      <td>CUIABA</td>\n",
       "      <td>202012</td>\n",
       "      <td>Não há</td>\n",
       "      <td>3ª</td>\n",
       "      <td>1286400.0</td>\n",
       "      <td>1891</td>\n",
       "    </tr>\n",
       "    <tr>\n",
       "      <th>244835</th>\n",
       "      <td>52652</td>\n",
       "      <td>5103403.0</td>\n",
       "      <td>MT</td>\n",
       "      <td>CUIABA</td>\n",
       "      <td>202012</td>\n",
       "      <td>Não há</td>\n",
       "      <td>4ª</td>\n",
       "      <td>2415600.0</td>\n",
       "      <td>3567</td>\n",
       "    </tr>\n",
       "    <tr>\n",
       "      <th>244836</th>\n",
       "      <td>52653</td>\n",
       "      <td>5103403.0</td>\n",
       "      <td>MT</td>\n",
       "      <td>CUIABA</td>\n",
       "      <td>202012</td>\n",
       "      <td>Não há</td>\n",
       "      <td>5ª</td>\n",
       "      <td>4240200.0</td>\n",
       "      <td>6312</td>\n",
       "    </tr>\n",
       "    <tr>\n",
       "      <th>244837</th>\n",
       "      <td>52654</td>\n",
       "      <td>5103403.0</td>\n",
       "      <td>MT</td>\n",
       "      <td>CUIABA</td>\n",
       "      <td>202012</td>\n",
       "      <td>Não há</td>\n",
       "      <td>6ª</td>\n",
       "      <td>4526100.0</td>\n",
       "      <td>13738</td>\n",
       "    </tr>\n",
       "    <tr>\n",
       "      <th>244838</th>\n",
       "      <td>52655</td>\n",
       "      <td>5103403.0</td>\n",
       "      <td>MT</td>\n",
       "      <td>CUIABA</td>\n",
       "      <td>202012</td>\n",
       "      <td>Não há</td>\n",
       "      <td>7ª</td>\n",
       "      <td>10428600.0</td>\n",
       "      <td>31858</td>\n",
       "    </tr>\n",
       "    <tr>\n",
       "      <th>244839</th>\n",
       "      <td>52656</td>\n",
       "      <td>5103403.0</td>\n",
       "      <td>MT</td>\n",
       "      <td>CUIABA</td>\n",
       "      <td>202012</td>\n",
       "      <td>Não há</td>\n",
       "      <td>8ª</td>\n",
       "      <td>24407700.0</td>\n",
       "      <td>73410</td>\n",
       "    </tr>\n",
       "    <tr>\n",
       "      <th>244840</th>\n",
       "      <td>52657</td>\n",
       "      <td>5103403.0</td>\n",
       "      <td>MT</td>\n",
       "      <td>CUIABA</td>\n",
       "      <td>202012</td>\n",
       "      <td>Não há</td>\n",
       "      <td>9ª</td>\n",
       "      <td>30783600.0</td>\n",
       "      <td>91267</td>\n",
       "    </tr>\n",
       "  </tbody>\n",
       "</table>\n",
       "</div>"
      ],
      "text/plain": [
       "        Unnamed: 0  CÓDIGO MUNICÍPIO IBGE  UF NOME MUNICÍPIO  \\\n",
       "5219         15259              5103403.0  MT         CUIABA   \n",
       "16008        29396              5103403.0  MT         CUIABA   \n",
       "16009        29397              5103403.0  MT         CUIABA   \n",
       "32367        37356              5103403.0  MT         CUIABA   \n",
       "32368        37357              5103403.0  MT         CUIABA   \n",
       "32369        37358              5103403.0  MT         CUIABA   \n",
       "54298        49807              5103403.0  MT         CUIABA   \n",
       "54299        49808              5103403.0  MT         CUIABA   \n",
       "54300        49809              5103403.0  MT         CUIABA   \n",
       "54301        49810              5103403.0  MT         CUIABA   \n",
       "81795        57221              5103403.0  MT         CUIABA   \n",
       "81796        57222              5103403.0  MT         CUIABA   \n",
       "81797        57223              5103403.0  MT         CUIABA   \n",
       "81798        57224              5103403.0  MT         CUIABA   \n",
       "81799        57225              5103403.0  MT         CUIABA   \n",
       "114705       55673              5103403.0  MT         CUIABA   \n",
       "114706       55674              5103403.0  MT         CUIABA   \n",
       "114707       55675              5103403.0  MT         CUIABA   \n",
       "114708       55676              5103403.0  MT         CUIABA   \n",
       "114709       55677              5103403.0  MT         CUIABA   \n",
       "114710       55678              5103403.0  MT         CUIABA   \n",
       "153000       47186              5103403.0  MT         CUIABA   \n",
       "153001       47187              5103403.0  MT         CUIABA   \n",
       "153002       47188              5103403.0  MT         CUIABA   \n",
       "153003       47189              5103403.0  MT         CUIABA   \n",
       "153004       47190              5103403.0  MT         CUIABA   \n",
       "153005       47191              5103403.0  MT         CUIABA   \n",
       "153006       47192              5103403.0  MT         CUIABA   \n",
       "196655       47470              5103403.0  MT         CUIABA   \n",
       "196656       47471              5103403.0  MT         CUIABA   \n",
       "196657       47472              5103403.0  MT         CUIABA   \n",
       "196658       47473              5103403.0  MT         CUIABA   \n",
       "196659       47474              5103403.0  MT         CUIABA   \n",
       "196660       47475              5103403.0  MT         CUIABA   \n",
       "196661       47476              5103403.0  MT         CUIABA   \n",
       "196662       47477              5103403.0  MT         CUIABA   \n",
       "244832       52649              5103403.0  MT         CUIABA   \n",
       "244833       52650              5103403.0  MT         CUIABA   \n",
       "244834       52651              5103403.0  MT         CUIABA   \n",
       "244835       52652              5103403.0  MT         CUIABA   \n",
       "244836       52653              5103403.0  MT         CUIABA   \n",
       "244837       52654              5103403.0  MT         CUIABA   \n",
       "244838       52655              5103403.0  MT         CUIABA   \n",
       "244839       52656              5103403.0  MT         CUIABA   \n",
       "244840       52657              5103403.0  MT         CUIABA   \n",
       "\n",
       "        MÊS DISPONIBILIZAÇÃO OBSERVAÇÃO PARCELA  soma_valor_beneficio  \\\n",
       "5219                  202004     Não há      1ª            67320000.0   \n",
       "16008                 202005     Não há      1ª            21891600.0   \n",
       "16009                 202005     Não há      2ª            69222600.0   \n",
       "32367                 202006     Não há      1ª            12592200.0   \n",
       "32368                 202006     Não há      2ª             6526200.0   \n",
       "32369                 202006     Não há      3ª            22393200.0   \n",
       "54298                 202007     Não há      1ª             2798400.0   \n",
       "54299                 202007     Não há      2ª            18138600.0   \n",
       "54300                 202007     Não há      3ª            53423400.0   \n",
       "54301                 202007     Não há      4ª            22519800.0   \n",
       "81795                 202008     Não há      1ª             3333000.0   \n",
       "81796                 202008     Não há      2ª            10231800.0   \n",
       "81797                 202008     Não há      3ª            14469600.0   \n",
       "81798                 202008     Não há      4ª            48288600.0   \n",
       "81799                 202008     Não há      5ª             5570400.0   \n",
       "114705                202009     Não há      1ª              647400.0   \n",
       "114706                202009     Não há      2ª             3604800.0   \n",
       "114707                202009     Não há      3ª            13956000.0   \n",
       "114708                202009     Não há      4ª            19082400.0   \n",
       "114709                202009     Não há      5ª            65275200.0   \n",
       "114710                202009     Não há      6ª             2619900.0   \n",
       "153000                202010     Não há      1ª             1236600.0   \n",
       "153001                202010     Não há      2ª              558000.0   \n",
       "153002                202010     Não há      3ª             3075600.0   \n",
       "153003                202010     Não há      4ª            12390600.0   \n",
       "153004                202010     Não há      5ª            16896000.0   \n",
       "153005                202010     Não há      6ª            28093200.0   \n",
       "153006                202010     Não há      7ª             2560500.0   \n",
       "196655                202011     Não há      1ª              678000.0   \n",
       "196656                202011     Não há      2ª             1341000.0   \n",
       "196657                202011     Não há      3ª             1330800.0   \n",
       "196658                202011     Não há      4ª             4663200.0   \n",
       "196659                202011     Não há      5ª            16403400.0   \n",
       "196660                202011     Não há      6ª            13824900.0   \n",
       "196661                202011     Não há      7ª            33677100.0   \n",
       "196662                202011     Não há      8ª            15543300.0   \n",
       "244832                202012     Não há      1ª              254400.0   \n",
       "244833                202012     Não há      2ª              597000.0   \n",
       "244834                202012     Não há      3ª             1286400.0   \n",
       "244835                202012     Não há      4ª             2415600.0   \n",
       "244836                202012     Não há      5ª             4240200.0   \n",
       "244837                202012     Não há      6ª             4526100.0   \n",
       "244838                202012     Não há      7ª            10428600.0   \n",
       "244839                202012     Não há      8ª            24407700.0   \n",
       "244840                202012     Não há      9ª            30783600.0   \n",
       "\n",
       "        count_valor_beneficio  \n",
       "5219                    99929  \n",
       "16008                   33888  \n",
       "16009                  102881  \n",
       "32367                   19119  \n",
       "32368                   10073  \n",
       "32369                   33286  \n",
       "54298                    4252  \n",
       "54299                   27940  \n",
       "54300                   79781  \n",
       "54301                   33488  \n",
       "81795                    5051  \n",
       "81796                   15525  \n",
       "81797                   22391  \n",
       "81798                   71915  \n",
       "81799                    8335  \n",
       "114705                    969  \n",
       "114706                   5498  \n",
       "114707                  21146  \n",
       "114708                  29460  \n",
       "114709                  97126  \n",
       "114710                   7829  \n",
       "153000                   1835  \n",
       "153001                    837  \n",
       "153002                   4695  \n",
       "153003                  18765  \n",
       "153004                  26083  \n",
       "153005                  83426  \n",
       "153006                   7647  \n",
       "196655                   1006  \n",
       "196656                   1992  \n",
       "196657                   1995  \n",
       "196658                   7106  \n",
       "196659                  24935  \n",
       "196660                  42229  \n",
       "196661                 100377  \n",
       "196662                  46083  \n",
       "244832                    360  \n",
       "244833                    864  \n",
       "244834                   1891  \n",
       "244835                   3567  \n",
       "244836                   6312  \n",
       "244837                  13738  \n",
       "244838                  31858  \n",
       "244839                  73410  \n",
       "244840                  91267  "
      ]
     },
     "execution_count": 36,
     "metadata": {},
     "output_type": "execute_result"
    }
   ],
   "source": [
    "df_auxilio.loc[df_auxilio['NOME MUNICÍPIO']=='CUIABA']"
   ]
  },
  {
   "cell_type": "code",
   "execution_count": 58,
   "metadata": {
    "ExecuteTime": {
     "end_time": "2021-04-06T23:51:23.443644Z",
     "start_time": "2021-04-06T23:51:12.341780Z"
    }
   },
   "outputs": [],
   "source": [
    "df_cv = df_cv.rename(columns={'municipio':'NOME MUNICÍPIO'})"
   ]
  },
  {
   "cell_type": "code",
   "execution_count": 61,
   "metadata": {
    "ExecuteTime": {
     "end_time": "2021-04-06T23:54:37.372595Z",
     "start_time": "2021-04-06T23:54:08.440039Z"
    }
   },
   "outputs": [
    {
     "ename": "MemoryError",
     "evalue": "Unable to allocate 3.04 GiB for an array with shape (4, 102117267) and data type object",
     "output_type": "error",
     "traceback": [
      "\u001b[1;31m---------------------------------------------------------------------------\u001b[0m",
      "\u001b[1;31mMemoryError\u001b[0m                               Traceback (most recent call last)",
      "\u001b[1;32m<ipython-input-61-419f0b816849>\u001b[0m in \u001b[0;36m<module>\u001b[1;34m\u001b[0m\n\u001b[1;32m----> 1\u001b[1;33m \u001b[0mpd\u001b[0m\u001b[1;33m.\u001b[0m\u001b[0mmerge\u001b[0m \u001b[1;33m(\u001b[0m\u001b[0mdf_auxilio\u001b[0m\u001b[1;33m,\u001b[0m\u001b[0mdf_cv\u001b[0m\u001b[1;33m,\u001b[0m \u001b[0mon\u001b[0m\u001b[1;33m=\u001b[0m\u001b[1;34m'NOME MUNICÍPIO'\u001b[0m\u001b[1;33m,\u001b[0m\u001b[0mhow\u001b[0m\u001b[1;33m=\u001b[0m\u001b[1;34m'left'\u001b[0m\u001b[1;33m)\u001b[0m\u001b[1;33m\u001b[0m\u001b[1;33m\u001b[0m\u001b[0m\n\u001b[0m",
      "\u001b[1;32m~\\Anaconda3\\lib\\site-packages\\pandas\\core\\reshape\\merge.py\u001b[0m in \u001b[0;36mmerge\u001b[1;34m(left, right, how, on, left_on, right_on, left_index, right_index, sort, suffixes, copy, indicator, validate)\u001b[0m\n\u001b[0;32m     87\u001b[0m         \u001b[0mvalidate\u001b[0m\u001b[1;33m=\u001b[0m\u001b[0mvalidate\u001b[0m\u001b[1;33m,\u001b[0m\u001b[1;33m\u001b[0m\u001b[1;33m\u001b[0m\u001b[0m\n\u001b[0;32m     88\u001b[0m     )\n\u001b[1;32m---> 89\u001b[1;33m     \u001b[1;32mreturn\u001b[0m \u001b[0mop\u001b[0m\u001b[1;33m.\u001b[0m\u001b[0mget_result\u001b[0m\u001b[1;33m(\u001b[0m\u001b[1;33m)\u001b[0m\u001b[1;33m\u001b[0m\u001b[1;33m\u001b[0m\u001b[0m\n\u001b[0m\u001b[0;32m     90\u001b[0m \u001b[1;33m\u001b[0m\u001b[0m\n\u001b[0;32m     91\u001b[0m \u001b[1;33m\u001b[0m\u001b[0m\n",
      "\u001b[1;32m~\\Anaconda3\\lib\\site-packages\\pandas\\core\\reshape\\merge.py\u001b[0m in \u001b[0;36mget_result\u001b[1;34m(self)\u001b[0m\n\u001b[0;32m    675\u001b[0m         \u001b[0mrindexers\u001b[0m \u001b[1;33m=\u001b[0m \u001b[1;33m{\u001b[0m\u001b[1;36m1\u001b[0m\u001b[1;33m:\u001b[0m \u001b[0mright_indexer\u001b[0m\u001b[1;33m}\u001b[0m \u001b[1;32mif\u001b[0m \u001b[0mright_indexer\u001b[0m \u001b[1;32mis\u001b[0m \u001b[1;32mnot\u001b[0m \u001b[1;32mNone\u001b[0m \u001b[1;32melse\u001b[0m \u001b[1;33m{\u001b[0m\u001b[1;33m}\u001b[0m\u001b[1;33m\u001b[0m\u001b[1;33m\u001b[0m\u001b[0m\n\u001b[0;32m    676\u001b[0m \u001b[1;33m\u001b[0m\u001b[0m\n\u001b[1;32m--> 677\u001b[1;33m         result_data = concatenate_block_managers(\n\u001b[0m\u001b[0;32m    678\u001b[0m             \u001b[1;33m[\u001b[0m\u001b[1;33m(\u001b[0m\u001b[0mself\u001b[0m\u001b[1;33m.\u001b[0m\u001b[0mleft\u001b[0m\u001b[1;33m.\u001b[0m\u001b[0m_mgr\u001b[0m\u001b[1;33m,\u001b[0m \u001b[0mlindexers\u001b[0m\u001b[1;33m)\u001b[0m\u001b[1;33m,\u001b[0m \u001b[1;33m(\u001b[0m\u001b[0mself\u001b[0m\u001b[1;33m.\u001b[0m\u001b[0mright\u001b[0m\u001b[1;33m.\u001b[0m\u001b[0m_mgr\u001b[0m\u001b[1;33m,\u001b[0m \u001b[0mrindexers\u001b[0m\u001b[1;33m)\u001b[0m\u001b[1;33m]\u001b[0m\u001b[1;33m,\u001b[0m\u001b[1;33m\u001b[0m\u001b[1;33m\u001b[0m\u001b[0m\n\u001b[0;32m    679\u001b[0m             \u001b[0maxes\u001b[0m\u001b[1;33m=\u001b[0m\u001b[1;33m[\u001b[0m\u001b[0mllabels\u001b[0m\u001b[1;33m.\u001b[0m\u001b[0mappend\u001b[0m\u001b[1;33m(\u001b[0m\u001b[0mrlabels\u001b[0m\u001b[1;33m)\u001b[0m\u001b[1;33m,\u001b[0m \u001b[0mjoin_index\u001b[0m\u001b[1;33m]\u001b[0m\u001b[1;33m,\u001b[0m\u001b[1;33m\u001b[0m\u001b[1;33m\u001b[0m\u001b[0m\n",
      "\u001b[1;32m~\\Anaconda3\\lib\\site-packages\\pandas\\core\\internals\\concat.py\u001b[0m in \u001b[0;36mconcatenate_block_managers\u001b[1;34m(mgrs_indexers, axes, concat_axis, copy)\u001b[0m\n\u001b[0;32m     77\u001b[0m         \u001b[1;32melse\u001b[0m\u001b[1;33m:\u001b[0m\u001b[1;33m\u001b[0m\u001b[1;33m\u001b[0m\u001b[0m\n\u001b[0;32m     78\u001b[0m             b = make_block(\n\u001b[1;32m---> 79\u001b[1;33m                 \u001b[0m_concatenate_join_units\u001b[0m\u001b[1;33m(\u001b[0m\u001b[0mjoin_units\u001b[0m\u001b[1;33m,\u001b[0m \u001b[0mconcat_axis\u001b[0m\u001b[1;33m,\u001b[0m \u001b[0mcopy\u001b[0m\u001b[1;33m=\u001b[0m\u001b[0mcopy\u001b[0m\u001b[1;33m,\u001b[0m\u001b[1;33m)\u001b[0m\u001b[1;33m,\u001b[0m\u001b[1;33m\u001b[0m\u001b[1;33m\u001b[0m\u001b[0m\n\u001b[0m\u001b[0;32m     80\u001b[0m                 \u001b[0mplacement\u001b[0m\u001b[1;33m=\u001b[0m\u001b[0mplacement\u001b[0m\u001b[1;33m,\u001b[0m\u001b[1;33m\u001b[0m\u001b[1;33m\u001b[0m\u001b[0m\n\u001b[0;32m     81\u001b[0m             )\n",
      "\u001b[1;32m~\\Anaconda3\\lib\\site-packages\\pandas\\core\\internals\\concat.py\u001b[0m in \u001b[0;36m_concatenate_join_units\u001b[1;34m(join_units, concat_axis, copy)\u001b[0m\n\u001b[0;32m    314\u001b[0m     \u001b[0mempty_dtype\u001b[0m\u001b[1;33m,\u001b[0m \u001b[0mupcasted_na\u001b[0m \u001b[1;33m=\u001b[0m \u001b[0m_get_empty_dtype_and_na\u001b[0m\u001b[1;33m(\u001b[0m\u001b[0mjoin_units\u001b[0m\u001b[1;33m)\u001b[0m\u001b[1;33m\u001b[0m\u001b[1;33m\u001b[0m\u001b[0m\n\u001b[0;32m    315\u001b[0m \u001b[1;33m\u001b[0m\u001b[0m\n\u001b[1;32m--> 316\u001b[1;33m     to_concat = [\n\u001b[0m\u001b[0;32m    317\u001b[0m         \u001b[0mju\u001b[0m\u001b[1;33m.\u001b[0m\u001b[0mget_reindexed_values\u001b[0m\u001b[1;33m(\u001b[0m\u001b[0mempty_dtype\u001b[0m\u001b[1;33m=\u001b[0m\u001b[0mempty_dtype\u001b[0m\u001b[1;33m,\u001b[0m \u001b[0mupcasted_na\u001b[0m\u001b[1;33m=\u001b[0m\u001b[0mupcasted_na\u001b[0m\u001b[1;33m)\u001b[0m\u001b[1;33m\u001b[0m\u001b[1;33m\u001b[0m\u001b[0m\n\u001b[0;32m    318\u001b[0m         \u001b[1;32mfor\u001b[0m \u001b[0mju\u001b[0m \u001b[1;32min\u001b[0m \u001b[0mjoin_units\u001b[0m\u001b[1;33m\u001b[0m\u001b[1;33m\u001b[0m\u001b[0m\n",
      "\u001b[1;32m~\\Anaconda3\\lib\\site-packages\\pandas\\core\\internals\\concat.py\u001b[0m in \u001b[0;36m<listcomp>\u001b[1;34m(.0)\u001b[0m\n\u001b[0;32m    315\u001b[0m \u001b[1;33m\u001b[0m\u001b[0m\n\u001b[0;32m    316\u001b[0m     to_concat = [\n\u001b[1;32m--> 317\u001b[1;33m         \u001b[0mju\u001b[0m\u001b[1;33m.\u001b[0m\u001b[0mget_reindexed_values\u001b[0m\u001b[1;33m(\u001b[0m\u001b[0mempty_dtype\u001b[0m\u001b[1;33m=\u001b[0m\u001b[0mempty_dtype\u001b[0m\u001b[1;33m,\u001b[0m \u001b[0mupcasted_na\u001b[0m\u001b[1;33m=\u001b[0m\u001b[0mupcasted_na\u001b[0m\u001b[1;33m)\u001b[0m\u001b[1;33m\u001b[0m\u001b[1;33m\u001b[0m\u001b[0m\n\u001b[0m\u001b[0;32m    318\u001b[0m         \u001b[1;32mfor\u001b[0m \u001b[0mju\u001b[0m \u001b[1;32min\u001b[0m \u001b[0mjoin_units\u001b[0m\u001b[1;33m\u001b[0m\u001b[1;33m\u001b[0m\u001b[0m\n\u001b[0;32m    319\u001b[0m     ]\n",
      "\u001b[1;32m~\\Anaconda3\\lib\\site-packages\\pandas\\core\\internals\\concat.py\u001b[0m in \u001b[0;36mget_reindexed_values\u001b[1;34m(self, empty_dtype, upcasted_na)\u001b[0m\n\u001b[0;32m    299\u001b[0m         \u001b[1;32melse\u001b[0m\u001b[1;33m:\u001b[0m\u001b[1;33m\u001b[0m\u001b[1;33m\u001b[0m\u001b[0m\n\u001b[0;32m    300\u001b[0m             \u001b[1;32mfor\u001b[0m \u001b[0max\u001b[0m\u001b[1;33m,\u001b[0m \u001b[0mindexer\u001b[0m \u001b[1;32min\u001b[0m \u001b[0mself\u001b[0m\u001b[1;33m.\u001b[0m\u001b[0mindexers\u001b[0m\u001b[1;33m.\u001b[0m\u001b[0mitems\u001b[0m\u001b[1;33m(\u001b[0m\u001b[1;33m)\u001b[0m\u001b[1;33m:\u001b[0m\u001b[1;33m\u001b[0m\u001b[1;33m\u001b[0m\u001b[0m\n\u001b[1;32m--> 301\u001b[1;33m                 \u001b[0mvalues\u001b[0m \u001b[1;33m=\u001b[0m \u001b[0malgos\u001b[0m\u001b[1;33m.\u001b[0m\u001b[0mtake_nd\u001b[0m\u001b[1;33m(\u001b[0m\u001b[0mvalues\u001b[0m\u001b[1;33m,\u001b[0m \u001b[0mindexer\u001b[0m\u001b[1;33m,\u001b[0m \u001b[0maxis\u001b[0m\u001b[1;33m=\u001b[0m\u001b[0max\u001b[0m\u001b[1;33m,\u001b[0m \u001b[0mfill_value\u001b[0m\u001b[1;33m=\u001b[0m\u001b[0mfill_value\u001b[0m\u001b[1;33m)\u001b[0m\u001b[1;33m\u001b[0m\u001b[1;33m\u001b[0m\u001b[0m\n\u001b[0m\u001b[0;32m    302\u001b[0m \u001b[1;33m\u001b[0m\u001b[0m\n\u001b[0;32m    303\u001b[0m         \u001b[1;32mreturn\u001b[0m \u001b[0mvalues\u001b[0m\u001b[1;33m\u001b[0m\u001b[1;33m\u001b[0m\u001b[0m\n",
      "\u001b[1;32m~\\Anaconda3\\lib\\site-packages\\pandas\\core\\algorithms.py\u001b[0m in \u001b[0;36mtake_nd\u001b[1;34m(arr, indexer, axis, out, fill_value, allow_fill)\u001b[0m\n\u001b[0;32m   1706\u001b[0m             \u001b[0mout\u001b[0m \u001b[1;33m=\u001b[0m \u001b[0mnp\u001b[0m\u001b[1;33m.\u001b[0m\u001b[0mempty\u001b[0m\u001b[1;33m(\u001b[0m\u001b[0mout_shape\u001b[0m\u001b[1;33m,\u001b[0m \u001b[0mdtype\u001b[0m\u001b[1;33m=\u001b[0m\u001b[0mdtype\u001b[0m\u001b[1;33m,\u001b[0m \u001b[0morder\u001b[0m\u001b[1;33m=\u001b[0m\u001b[1;34m\"F\"\u001b[0m\u001b[1;33m)\u001b[0m\u001b[1;33m\u001b[0m\u001b[1;33m\u001b[0m\u001b[0m\n\u001b[0;32m   1707\u001b[0m         \u001b[1;32melse\u001b[0m\u001b[1;33m:\u001b[0m\u001b[1;33m\u001b[0m\u001b[1;33m\u001b[0m\u001b[0m\n\u001b[1;32m-> 1708\u001b[1;33m             \u001b[0mout\u001b[0m \u001b[1;33m=\u001b[0m \u001b[0mnp\u001b[0m\u001b[1;33m.\u001b[0m\u001b[0mempty\u001b[0m\u001b[1;33m(\u001b[0m\u001b[0mout_shape\u001b[0m\u001b[1;33m,\u001b[0m \u001b[0mdtype\u001b[0m\u001b[1;33m=\u001b[0m\u001b[0mdtype\u001b[0m\u001b[1;33m)\u001b[0m\u001b[1;33m\u001b[0m\u001b[1;33m\u001b[0m\u001b[0m\n\u001b[0m\u001b[0;32m   1709\u001b[0m \u001b[1;33m\u001b[0m\u001b[0m\n\u001b[0;32m   1710\u001b[0m     func = _get_take_nd_function(\n",
      "\u001b[1;31mMemoryError\u001b[0m: Unable to allocate 3.04 GiB for an array with shape (4, 102117267) and data type object"
     ]
    }
   ],
   "source": [
    "pd.merge (df_auxilio,df_cv, on='NOME MUNICÍPIO',how='left')"
   ]
  }
 ],
 "metadata": {
  "kernelspec": {
   "display_name": "Python 3",
   "language": "python",
   "name": "python3"
  },
  "language_info": {
   "codemirror_mode": {
    "name": "ipython",
    "version": 3
   },
   "file_extension": ".py",
   "mimetype": "text/x-python",
   "name": "python",
   "nbconvert_exporter": "python",
   "pygments_lexer": "ipython3",
   "version": "3.8.5"
  },
  "toc": {
   "base_numbering": 1,
   "nav_menu": {},
   "number_sections": true,
   "sideBar": true,
   "skip_h1_title": false,
   "title_cell": "Table of Contents",
   "title_sidebar": "Contents",
   "toc_cell": false,
   "toc_position": {},
   "toc_section_display": true,
   "toc_window_display": false
  },
  "varInspector": {
   "cols": {
    "lenName": 16,
    "lenType": 16,
    "lenVar": 40
   },
   "kernels_config": {
    "python": {
     "delete_cmd_postfix": "",
     "delete_cmd_prefix": "del ",
     "library": "var_list.py",
     "varRefreshCmd": "print(var_dic_list())"
    },
    "r": {
     "delete_cmd_postfix": ") ",
     "delete_cmd_prefix": "rm(",
     "library": "var_list.r",
     "varRefreshCmd": "cat(var_dic_list()) "
    }
   },
   "types_to_exclude": [
    "module",
    "function",
    "builtin_function_or_method",
    "instance",
    "_Feature"
   ],
   "window_display": false
  }
 },
 "nbformat": 4,
 "nbformat_minor": 4
}
